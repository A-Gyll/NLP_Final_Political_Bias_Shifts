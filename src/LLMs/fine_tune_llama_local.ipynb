{
 "cells": [
  {
   "cell_type": "code",
   "execution_count": 1,
   "metadata": {},
   "outputs": [
    {
     "name": "stderr",
     "output_type": "stream",
     "text": [
      "/home/bhx5gh/Documents/NLP/NLP_Final_Political_Bias_Shifts/.venv/lib64/python3.11/site-packages/tqdm/auto.py:21: TqdmWarning: IProgress not found. Please update jupyter and ipywidgets. See https://ipywidgets.readthedocs.io/en/stable/user_install.html\n",
      "  from .autonotebook import tqdm as notebook_tqdm\n"
     ]
    }
   ],
   "source": [
    "import pandas as pd\n",
    "from sklearn.model_selection import train_test_split\n",
    "from transformers import AutoTokenizer, AutoModelForCausalLM, Trainer, TrainingArguments, DataCollatorForLanguageModeling\n",
    "import torch\n",
    "from peft import get_peft_model, LoraConfig, TaskType\n",
    "from datasets import Dataset, DatasetDict"
   ]
  },
  {
   "cell_type": "code",
   "execution_count": 2,
   "metadata": {},
   "outputs": [
    {
     "name": "stdout",
     "output_type": "stream",
     "text": [
      "NVIDIA A40\n",
      "47608692736\n"
     ]
    }
   ],
   "source": [
    "print(torch.cuda.get_device_name(0))\n",
    "print(torch.cuda.get_device_properties(0).total_memory)"
   ]
  },
  {
   "cell_type": "code",
   "execution_count": 3,
   "metadata": {},
   "outputs": [],
   "source": [
    "#load dataset\n",
    "data = pd.read_csv(\"../../data/Cleaned Data/CNBC_comments_clean.csv\")  \n",
    "comments = data[\"comment\"].astype(str).sample(frac=0.1, random_state=42)\n",
    "\n",
    "train_comments, test_comments = train_test_split(comments, test_size=0.3, random_state=42)\n",
    "val_comments, test_comments = train_test_split(test_comments, test_size=0.5, random_state=42)\n",
    "\n",
    "train_dataset = Dataset.from_pandas(pd.DataFrame({\"text\": train_comments}))\n",
    "val_dataset = Dataset.from_pandas(pd.DataFrame({\"text\": val_comments}))\n",
    "test_dataset = Dataset.from_pandas(pd.DataFrame({\"text\": test_comments}))\n",
    "\n",
    "dataset = DatasetDict({\n",
    "    \"train\": train_dataset,\n",
    "    \"validation\": val_dataset,\n",
    "    \"test\": test_dataset\n",
    "})\n",
    "\n",
    "\n"
   ]
  },
  {
   "cell_type": "code",
   "execution_count": 4,
   "metadata": {},
   "outputs": [
    {
     "name": "stderr",
     "output_type": "stream",
     "text": [
      "Loading checkpoint shards: 100%|██████████| 2/2 [00:05<00:00,  2.83s/it]\n"
     ]
    }
   ],
   "source": [
    "# Load tokenizer and model\n",
    "model_path = \"../Local Models/meta-llama_Llama-3.2-3B\"\n",
    "tokenizer = AutoTokenizer.from_pretrained(model_path)\n",
    "model = AutoModelForCausalLM.from_pretrained(model_path)\n",
    "\n",
    "if tokenizer.pad_token is None:\n",
    "    tokenizer.pad_token = tokenizer.eos_token  # maybe this instead?: tokenizer.add_special_tokens({'pad_token': '[PAD]'})\n",
    "\n",
    "def tokenize_function(examples):\n",
    "    return tokenizer(examples[\"text\"], padding=\"max_length\", truncation=True, max_length=128)\n",
    "\n"
   ]
  },
  {
   "cell_type": "code",
   "execution_count": 5,
   "metadata": {},
   "outputs": [
    {
     "name": "stderr",
     "output_type": "stream",
     "text": [
      "Map: 100%|██████████| 8838/8838 [00:00<00:00, 17096.21 examples/s]\n",
      "Map: 100%|██████████| 1894/1894 [00:00<00:00, 18697.51 examples/s]\n",
      "Map: 100%|██████████| 1895/1895 [00:00<00:00, 17829.52 examples/s]\n",
      "Map: 100%|██████████| 8838/8838 [00:00<00:00, 15521.69 examples/s]\n",
      "Map: 100%|██████████| 1894/1894 [00:00<00:00, 15143.25 examples/s]\n",
      "Map: 100%|██████████| 1895/1895 [00:00<00:00, 15601.27 examples/s]\n"
     ]
    }
   ],
   "source": [
    "# Tokenize each split and remove the 'text' column\n",
    "tokenized_datasets = dataset.map(tokenize_function, batched=True, remove_columns=[\"text\"])\n",
    "\n",
    "# Add 'labels' field for causal language modeling\n",
    "tokenized_datasets = tokenized_datasets.map(lambda examples: {\"labels\": examples[\"input_ids\"]})\n",
    "\n",
    "data_collator = DataCollatorForLanguageModeling(tokenizer=tokenizer, mlm=False)"
   ]
  },
  {
   "cell_type": "code",
   "execution_count": 6,
   "metadata": {},
   "outputs": [
    {
     "data": {
      "text/plain": [
       "'# Tokenize data\\ntrain_encodings = tokenizer(train_comments, truncation=True, padding=True, max_length=128, return_tensors=\"pt\")\\ntrain_encodings[\\'labels\\'] = train_encodings[\\'input_ids\\'].clone() # following this: https://huggingface.co/docs/transformers/en/tasks/language_modeling\\n# pad tokens shouldnt effect loss becuase it is being set to eos toekn\\nval_encodings = tokenizer(val_comments, truncation=True, padding=True, max_length=128, return_tensors=\"pt\")\\nval_encodings[\\'labels\\'] = val_encodings[\\'input_ids\\'].clone()\\ntest_encodings = tokenizer(test_comments, truncation=True, padding=True, max_length=128, return_tensors=\"pt\")\\ntest_encodings[\\'labels\\'] = test_encodings[\\'input_ids\\'].clone()\\n\\nprint(f\"input_ids shape: {train_encodings[\\'input_ids\\'].shape}\")\\nprint(f\"attention_mask shape: {train_encodings[\\'attention_mask\\'].shape}\")\\nprint(f\"labels shape: {train_encodings[\\'labels\\'].shape if \\'labels\\' in train_encodings else \\'No labels found\\'}\")\\n'"
      ]
     },
     "execution_count": 6,
     "metadata": {},
     "output_type": "execute_result"
    }
   ],
   "source": [
    "\"\"\"# Tokenize data\n",
    "train_encodings = tokenizer(train_comments, truncation=True, padding=True, max_length=128, return_tensors=\"pt\")\n",
    "train_encodings['labels'] = train_encodings['input_ids'].clone() # following this: https://huggingface.co/docs/transformers/en/tasks/language_modeling\n",
    "# pad tokens shouldnt effect loss becuase it is being set to eos toekn\n",
    "val_encodings = tokenizer(val_comments, truncation=True, padding=True, max_length=128, return_tensors=\"pt\")\n",
    "val_encodings['labels'] = val_encodings['input_ids'].clone()\n",
    "test_encodings = tokenizer(test_comments, truncation=True, padding=True, max_length=128, return_tensors=\"pt\")\n",
    "test_encodings['labels'] = test_encodings['input_ids'].clone()\n",
    "\n",
    "print(f\"input_ids shape: {train_encodings['input_ids'].shape}\")\n",
    "print(f\"attention_mask shape: {train_encodings['attention_mask'].shape}\")\n",
    "print(f\"labels shape: {train_encodings['labels'].shape if 'labels' in train_encodings else 'No labels found'}\")\n",
    "\"\"\""
   ]
  },
  {
   "cell_type": "code",
   "execution_count": null,
   "metadata": {},
   "outputs": [
    {
     "name": "stderr",
     "output_type": "stream",
     "text": [
      "/home/bhx5gh/Documents/NLP/NLP_Final_Political_Bias_Shifts/.venv/lib64/python3.11/site-packages/transformers/training_args.py:1568: FutureWarning: `evaluation_strategy` is deprecated and will be removed in version 4.46 of 🤗 Transformers. Use `eval_strategy` instead\n",
      "  warnings.warn(\n"
     ]
    }
   ],
   "source": [
    "# Set up LoRA configuration\n",
    "lora_config = LoraConfig(\n",
    "    r=16,   # Rank\n",
    "    lora_alpha=32,\n",
    "    task_type=TaskType.CAUSAL_LM,\n",
    "    lora_dropout=0.1,\n",
    ")\n",
    "\n",
    "# Apply LoRA to model\n",
    "model = get_peft_model(model, lora_config)\n",
    "\n",
    "# Define training arguments with evaluation and checkpointing every 150 steps\n",
    "training_args = TrainingArguments(\n",
    "    output_dir=\"../../fine_tuned_llms/llama_3_2_3b/checkpoints\",\n",
    "    per_device_train_batch_size=32, #using A40 gpu, not sure if rivanna can handle more, sticking with this for now\n",
    "    per_device_eval_batch_size=32,\n",
    "    num_train_epochs=3,\n",
    "    evaluation_strategy=\"steps\",\n",
    "    save_strategy=\"steps\",\n",
    "    eval_steps=50,\n",
    "    save_steps=50,\n",
    "    load_best_model_at_end=True,\n",
    "    metric_for_best_model=\"eval_loss\", #\"perplexity\",   # Select the best model based on perplexity\n",
    "    greater_is_better=False,              # Lower perplexity is better\n",
    "    logging_dir=\"../../fine_tuned_llms/llama_3_2_3b/metrics\",\n",
    "    fp16=True,\n",
    "    save_total_limit=3, # only keeping best 3\n",
    ")\n",
    "\n",
    "\n",
    "#potential issue:\n",
    "# The following columns in the training set don't have a corresponding argument in `PeftModelForCausalLM.forward` and have been ignored: __index_level_0__. If __index_level_0__ are not expected by `PeftModelForCausalLM.forward`,  you can safely ignore this message.\n",
    "\n",
    "\n",
    "# perplexity approximation\n",
    "def compute_metrics(eval_preds):\n",
    "    logits, labels = eval_preds\n",
    "    shift_logits = logits[..., :-1, :].contiguous()\n",
    "    shift_labels = labels[..., 1:].contiguous()\n",
    "    \n",
    "    # Calculate loss\n",
    "    loss_fct = torch.nn.CrossEntropyLoss()\n",
    "    loss = loss_fct(shift_logits.view(-1, shift_logits.size(-1)), shift_labels.view(-1))\n",
    "    \n",
    "    # Calculate perplexity\n",
    "    perplexity = torch.exp(loss)\n",
    "    \n",
    "    return {\"eval_loss\": loss.item(), \"perplexity\": perplexity.item()}"
   ]
  },
  {
   "cell_type": "code",
   "execution_count": 8,
   "metadata": {},
   "outputs": [
    {
     "name": "stderr",
     "output_type": "stream",
     "text": [
      "Detected kernel version 4.18.0, which is below the recommended minimum of 5.5.0; this can cause the process to hang. It is recommended to upgrade the kernel to the minimum version or higher.\n"
     ]
    },
    {
     "data": {
      "text/html": [
       "\n",
       "    <div>\n",
       "      \n",
       "      <progress value='831' max='831' style='width:300px; height:20px; vertical-align: middle;'></progress>\n",
       "      [831/831 22:53, Epoch 3/3]\n",
       "    </div>\n",
       "    <table border=\"1\" class=\"dataframe\">\n",
       "  <thead>\n",
       " <tr style=\"text-align: left;\">\n",
       "      <th>Step</th>\n",
       "      <th>Training Loss</th>\n",
       "      <th>Validation Loss</th>\n",
       "    </tr>\n",
       "  </thead>\n",
       "  <tbody>\n",
       "    <tr>\n",
       "      <td>50</td>\n",
       "      <td>No log</td>\n",
       "      <td>3.453657</td>\n",
       "    </tr>\n",
       "    <tr>\n",
       "      <td>100</td>\n",
       "      <td>No log</td>\n",
       "      <td>3.381265</td>\n",
       "    </tr>\n",
       "    <tr>\n",
       "      <td>150</td>\n",
       "      <td>No log</td>\n",
       "      <td>3.358906</td>\n",
       "    </tr>\n",
       "    <tr>\n",
       "      <td>200</td>\n",
       "      <td>No log</td>\n",
       "      <td>3.349973</td>\n",
       "    </tr>\n",
       "    <tr>\n",
       "      <td>250</td>\n",
       "      <td>No log</td>\n",
       "      <td>3.344757</td>\n",
       "    </tr>\n",
       "    <tr>\n",
       "      <td>300</td>\n",
       "      <td>No log</td>\n",
       "      <td>3.341569</td>\n",
       "    </tr>\n",
       "    <tr>\n",
       "      <td>350</td>\n",
       "      <td>No log</td>\n",
       "      <td>3.338951</td>\n",
       "    </tr>\n",
       "    <tr>\n",
       "      <td>400</td>\n",
       "      <td>No log</td>\n",
       "      <td>3.337027</td>\n",
       "    </tr>\n",
       "    <tr>\n",
       "      <td>450</td>\n",
       "      <td>No log</td>\n",
       "      <td>3.335171</td>\n",
       "    </tr>\n",
       "    <tr>\n",
       "      <td>500</td>\n",
       "      <td>3.305500</td>\n",
       "      <td>3.333374</td>\n",
       "    </tr>\n",
       "    <tr>\n",
       "      <td>550</td>\n",
       "      <td>3.305500</td>\n",
       "      <td>3.332131</td>\n",
       "    </tr>\n",
       "    <tr>\n",
       "      <td>600</td>\n",
       "      <td>3.305500</td>\n",
       "      <td>3.331675</td>\n",
       "    </tr>\n",
       "    <tr>\n",
       "      <td>650</td>\n",
       "      <td>3.305500</td>\n",
       "      <td>3.331173</td>\n",
       "    </tr>\n",
       "    <tr>\n",
       "      <td>700</td>\n",
       "      <td>3.305500</td>\n",
       "      <td>3.330785</td>\n",
       "    </tr>\n",
       "    <tr>\n",
       "      <td>750</td>\n",
       "      <td>3.305500</td>\n",
       "      <td>3.330475</td>\n",
       "    </tr>\n",
       "    <tr>\n",
       "      <td>800</td>\n",
       "      <td>3.305500</td>\n",
       "      <td>3.330285</td>\n",
       "    </tr>\n",
       "  </tbody>\n",
       "</table><p>"
      ],
      "text/plain": [
       "<IPython.core.display.HTML object>"
      ]
     },
     "metadata": {},
     "output_type": "display_data"
    },
    {
     "data": {
      "text/plain": [
       "TrainOutput(global_step=831, training_loss=3.283893534709687, metrics={'train_runtime': 1375.0364, 'train_samples_per_second': 19.282, 'train_steps_per_second': 0.604, 'total_flos': 5.749086862599782e+16, 'train_loss': 3.283893534709687, 'epoch': 3.0})"
      ]
     },
     "execution_count": 8,
     "metadata": {},
     "output_type": "execute_result"
    }
   ],
   "source": [
    "trainer = Trainer(\n",
    "    model=model,\n",
    "    args=training_args,\n",
    "    train_dataset=tokenized_datasets[\"train\"],\n",
    "    eval_dataset=tokenized_datasets[\"validation\"],\n",
    "    data_collator=data_collator,\n",
    "    #compute_metrics=compute_metrics  # Pass the compute_metrics function\n",
    "    # this is causing massive memory usage because it accumulates all of the tensors before evaluating them (dumb!), there is a fix here that we have to implement\n",
    "    #https://discuss.huggingface.co/t/cuda-out-of-memory-when-using-trainer-with-compute-metrics/2941/12 - morenolq's answer\n",
    ")\n",
    "\n",
    "# Finetune model\n",
    "trainer.train()"
   ]
  },
  {
   "cell_type": "code",
   "execution_count": 11,
   "metadata": {},
   "outputs": [
    {
     "name": "stdout",
     "output_type": "stream",
     "text": [
      "Loss on test set: 3.335228443145752\n"
     ]
    }
   ],
   "source": [
    "eval_results = trainer.evaluate(tokenized_datasets[\"test\"])\n",
    "print(f\"Loss on test set: {eval_results['eval_loss']}\")"
   ]
  },
  {
   "cell_type": "code",
   "execution_count": 1,
   "metadata": {},
   "outputs": [
    {
     "name": "stderr",
     "output_type": "stream",
     "text": [
      "/home/puschb/UVA/NLP/NLP_Final_Political_Bias_Shifts/.venv/lib/python3.10/site-packages/tqdm/auto.py:21: TqdmWarning: IProgress not found. Please update jupyter and ipywidgets. See https://ipywidgets.readthedocs.io/en/stable/user_install.html\n",
      "  from .autonotebook import tqdm as notebook_tqdm\n"
     ]
    }
   ],
   "source": [
    "from datasets import load_dataset\n",
    "\n",
    "eli5 = load_dataset(\"eli5_category\", split=\"train[:5000]\")\n"
   ]
  },
  {
   "cell_type": "code",
   "execution_count": null,
   "metadata": {},
   "outputs": [
    {
     "name": "stdout",
     "output_type": "stream",
     "text": [
      "<class 'datasets.arrow_dataset.Dataset'>\n"
     ]
    }
   ],
   "source": [
    "eli5 = eli5.train_test_split(test_size=0.2)"
   ]
  }
 ],
 "metadata": {
  "kernelspec": {
   "display_name": ".venv",
   "language": "python",
   "name": "python3"
  },
  "language_info": {
   "codemirror_mode": {
    "name": "ipython",
    "version": 3
   },
   "file_extension": ".py",
   "mimetype": "text/x-python",
   "name": "python",
   "nbconvert_exporter": "python",
   "pygments_lexer": "ipython3",
   "version": "3.10.12"
  }
 },
 "nbformat": 4,
 "nbformat_minor": 2
}
