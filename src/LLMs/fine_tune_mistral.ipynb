{
 "cells": [
  {
   "cell_type": "code",
   "execution_count": 1,
   "metadata": {},
   "outputs": [
    {
     "name": "stderr",
     "output_type": "stream",
     "text": [
      "/home/bhx5gh/Documents/NLP/NLP_Final_Political_Bias_Shifts/.venv/lib64/python3.11/site-packages/tqdm/auto.py:21: TqdmWarning: IProgress not found. Please update jupyter and ipywidgets. See https://ipywidgets.readthedocs.io/en/stable/user_install.html\n",
      "  from .autonotebook import tqdm as notebook_tqdm\n"
     ]
    }
   ],
   "source": [
    "import pandas as pd\n",
    "from sklearn.model_selection import train_test_split\n",
    "from transformers import AutoTokenizer, AutoModelForCausalLM, Trainer, TrainingArguments, DataCollatorForLanguageModeling\n",
    "import torch\n",
    "from peft import get_peft_model, LoraConfig, TaskType\n",
    "from datasets import Dataset, DatasetDict\n",
    "from fine_tune_util import compute_metrics, preprocess_logits_for_metrics, token_length_histogram\n",
    "from datetime import datetime"
   ]
  },
  {
   "cell_type": "code",
   "execution_count": 2,
   "metadata": {},
   "outputs": [
    {
     "name": "stdout",
     "output_type": "stream",
     "text": [
      "NVIDIA A40\n",
      "47608692736\n"
     ]
    }
   ],
   "source": [
    "print(torch.cuda.get_device_name(0))\n",
    "print(torch.cuda.get_device_properties(0).total_memory)"
   ]
  },
  {
   "cell_type": "code",
   "execution_count": 3,
   "metadata": {},
   "outputs": [],
   "source": [
    "##################################### All Configuration ###################################\n",
    "# This should be the only part of this code that is getting modified                      #\n",
    "model_name = \"mistralai_Mistral-7B-v0_1\"     #\"meta-llama_Llama-3.2-3B\" #                                              #\n",
    "model_path = f\"../Local Models/{model_name}\"                                              #                                                      \n",
    "                                                                                          #\n",
    "from_pretrained_params_dict = {                                                           #\n",
    "    \"pretrained_model_name_or_path\" : model_path,                                         #\n",
    "    #\"load_in_8bit\":True,                                                                 #\n",
    "    \"device_map\":\"auto\",                                                                  #\n",
    "    \"torch_dtype\": torch.float16                                                          #\n",
    "}                                                                                         #\n",
    "                                                                                          #\n",
    "lora_config_params_dict = {                                                               #\n",
    "    \"lora_alpha\":4,#16,                                                                      #\n",
    "    \"lora_dropout\":0.1,                                                                   #\n",
    "    \"r\":8,#64,                                                                               #\n",
    "    \"bias\":\"none\",                                                                        #\n",
    "    \"task_type\":TaskType.CAUSAL_LM,                                                       #\n",
    "    #\"target_modules\": [\"q_proj\", \"k_proj\", \"v_proj\", \"o_proj\", \"gate_proj\", \"up_proj\"     #\n",
    "     #               \"down_proj\", \"lm_head\"]                                               #\n",
    "}                                                                                         #\n",
    "                                                                                          #\n",
    "quantization_params_dict = {                                                              #\n",
    "                                                                                          #\n",
    "}                                                                                         #\n",
    "                                                                                          #\n",
    "tokenizer_params_dict = {                                                                 #\n",
    "  \"truncation\":True,\n",
    "  \"padding\": True,\n",
    "  \"return_tensors\": None,                                                                      #\n",
    "  \"max_length\":512                                                                       #\n",
    "}                                                                                         #\n",
    "                                                                                          #\n",
    "cur_datetime = datetime.now().strftime(\"%Y-%m-%d %H-%M-%S\")                               #\n",
    "checkpoint_dir = f\"../../fine_tuned_llms/{model_name}/checkpoints/{cur_datetime}\"        #\n",
    "metrics_dir = f\"../../fine_tuned_llms/{model_name}/logs/{cur_datetime}\"                                              #                                                                                          \n",
    "                                                                                          #\n",
    "training_args_dict = {                                                                    #                 \n",
    "  \"output_dir\":checkpoint_dir,                                                            #                              \n",
    "  \"per_device_train_batch_size\":8, # using A40 gpu, not sure if rivanna can handle more,  #                                                                                         \n",
    "                                    # sticking with this for now                          #                                                                \n",
    "  \"per_device_eval_batch_size\":4,                                                         #                                 \n",
    "  #\"num_train_epochs\":3,                                                                  #                        \n",
    "  \"max_steps\": 20,                                                                       #                   \n",
    "  \"evaluation_strategy\":\"steps\",                                                          #                                \n",
    "  \"save_strategy\":\"steps\",                                                                #                          \n",
    "  \"eval_steps\":10,                                                                        #                  \n",
    "  \"save_steps\":10,                                                                        #                  \n",
    "  \"load_best_model_at_end\":True,                                                          #                                \n",
    "  \"metric_for_best_model\":\"perplexity\",   # Select the best model based on perplexity     #                                                                                     \n",
    "  \"greater_is_better\":False,              # Lower perplexity is better                    #                                                                      \n",
    "  \"logging_dir\":metrics_dir,   \n",
    "  \"logging_strategy\": \"steps\" , \n",
    "  \"logging_steps\": 10,                                                         #                            \n",
    "  \"fp16\":True,                                                                            #              \n",
    "  #save_total_limit=3, # only keeping best 3                                              #                                            \n",
    "}                                                                                         # \n",
    "###########################################################################################"
   ]
  },
  {
   "cell_type": "code",
   "execution_count": 4,
   "metadata": {},
   "outputs": [],
   "source": [
    "#load dataset\n",
    "\n",
    "seed = 210\n",
    "\n",
    "data = pd.read_csv(\"../../data/Cleaned Data/CNN_comments_clean.csv\")  \n",
    "comments = data[\"comment\"].astype(str).sample(frac=0.07, random_state=seed)\n",
    "\n",
    "train_comments, test_comments = train_test_split(comments, test_size=0.3, random_state=seed)\n",
    "val_comments, test_comments = train_test_split(test_comments, test_size=0.9, random_state=seed)\n",
    "\n",
    "train_dataset = Dataset.from_pandas(pd.DataFrame({\"text\": train_comments}))\n",
    "val_dataset = Dataset.from_pandas(pd.DataFrame({\"text\": val_comments}))\n",
    "test_dataset = Dataset.from_pandas(pd.DataFrame({\"text\": test_comments}))\n",
    "\n",
    "dataset = DatasetDict({\n",
    "    \"train\": train_dataset,\n",
    "    \"validation\": val_dataset,\n",
    "    \"test\": test_dataset\n",
    "})\n",
    "\n",
    "\n"
   ]
  },
  {
   "cell_type": "code",
   "execution_count": 5,
   "metadata": {},
   "outputs": [
    {
     "name": "stderr",
     "output_type": "stream",
     "text": [
      "Loading checkpoint shards:  50%|█████     | 1/2 [00:16<00:16, 16.84s/it]"
     ]
    }
   ],
   "source": [
    "# set up model\n",
    "tokenizer = AutoTokenizer.from_pretrained(model_path)\n",
    "model = AutoModelForCausalLM.from_pretrained(**from_pretrained_params_dict)\n",
    "peft_config =  LoraConfig(**lora_config_params_dict)\n",
    "model = get_peft_model(model, peft_config)\n",
    "print(model)"
   ]
  },
  {
   "cell_type": "code",
   "execution_count": null,
   "metadata": {},
   "outputs": [],
   "source": [
    "#set up tokenizer\n",
    "tokenizer.pad_token = tokenizer.eos_token  # maybe this instead?: tokenizer.add_special_tokens({'pad_token': '[PAD]'})\n",
    "# using EOS should be fine since we want to talk like youtube comments\n",
    "tokenizer.padding_side = \"right\"\n",
    "def tokenize_function(examples):\n",
    "    return tokenizer(examples[\"text\"], **tokenizer_params_dict) # we don't do padding here, we let the data collater handle it"
   ]
  },
  {
   "cell_type": "code",
   "execution_count": null,
   "metadata": {},
   "outputs": [
    {
     "name": "stderr",
     "output_type": "stream",
     "text": [
      "Map: 100%|██████████| 80773/80773 [00:17<00:00, 4720.13 examples/s]\n",
      "Map: 100%|██████████| 3461/3461 [00:00<00:00, 5079.66 examples/s]\n",
      "Map: 100%|██████████| 31156/31156 [00:06<00:00, 4653.15 examples/s]"
     ]
    },
    {
     "name": "stdout",
     "output_type": "stream",
     "text": [
      "DatasetDict({\n",
      "    train: Dataset({\n",
      "        features: ['input_ids', 'attention_mask'],\n",
      "        num_rows: 80773\n",
      "    })\n",
      "    validation: Dataset({\n",
      "        features: ['input_ids', 'attention_mask'],\n",
      "        num_rows: 3461\n",
      "    })\n",
      "    test: Dataset({\n",
      "        features: ['input_ids', 'attention_mask'],\n",
      "        num_rows: 31156\n",
      "    })\n",
      "})\n"
     ]
    },
    {
     "name": "stderr",
     "output_type": "stream",
     "text": [
      "\n"
     ]
    }
   ],
   "source": [
    "# Tokenize each split and remove the 'text' column\n",
    "tokenized_datasets = dataset.map(tokenize_function, batched=True, remove_columns=[\"text\"])\n",
    "\n",
    "# Add 'labels' field for causal language modeling\n",
    "#tokenized_datasets = tokenized_datasets.map(lambda examples: {\"labels\": examples[\"input_ids\"]})\n",
    "tokenized_datasets = tokenized_datasets.remove_columns([\"__index_level_0__\"])\n",
    "print(tokenized_datasets)\n",
    "\n",
    "data_collator = DataCollatorForLanguageModeling(tokenizer=tokenizer, mlm=False)"
   ]
  },
  {
   "cell_type": "code",
   "execution_count": null,
   "metadata": {},
   "outputs": [
    {
     "data": {
      "text/plain": [
       "\"token_length_histogram(tokenized_datasets, 'train')\\ntoken_length_histogram(tokenized_datasets, 'validation')\\ntoken_length_histogram(tokenized_datasets, 'test')\""
      ]
     },
     "execution_count": 8,
     "metadata": {},
     "output_type": "execute_result"
    }
   ],
   "source": [
    "'''token_length_histogram(tokenized_datasets, 'train')\n",
    "token_length_histogram(tokenized_datasets, 'validation')\n",
    "token_length_histogram(tokenized_datasets, 'test')'''"
   ]
  },
  {
   "cell_type": "code",
   "execution_count": null,
   "metadata": {},
   "outputs": [],
   "source": [
    "import numpy as np\n",
    "def preprocess_logits_for_metrics(logits, labels):\n",
    "    \"\"\"\n",
    "    Preprocess logits for evaluation and calculate the batch loss.\n",
    "    \"\"\"\n",
    "    # Move logits and labels to the correct device (if not already)\n",
    "    device = torch.device(\"cuda\" if torch.cuda.is_available() else \"cpu\")\n",
    "    logits = logits.to(device).float()\n",
    "    labels = labels.to(device).long()\n",
    "\n",
    "    # Shift logits and labels for causal language modeling\n",
    "    shift_logits = logits[..., :-1, :].contiguous()\n",
    "    shift_labels = labels[..., 1:].contiguous()\n",
    "\n",
    "    # Compute the batch loss using CrossEntropyLoss\n",
    "    loss_fct = torch.nn.CrossEntropyLoss()\n",
    "    loss = loss_fct(shift_logits.view(-1, shift_logits.size(-1)), shift_labels.view(-1))\n",
    "\n",
    "    return loss\n",
    "\n",
    "def compute_metrics(eval_preds):\n",
    "    \"\"\"\n",
    "    Compute evaluation metrics based on the cumulative loss.\n",
    "    \"\"\"\n",
    "    # Unpack eval_preds which contains losses (possibly numpy arrays)\n",
    "    losses = eval_preds[0]  # Assuming eval_preds is a tuple of (losses, ...)\n",
    "    \n",
    "    # Convert losses to a PyTorch tensor if they are in numpy format\n",
    "    if isinstance(losses, np.ndarray):\n",
    "        losses = torch.tensor(losses, device=torch.device(\"cuda\" if torch.cuda.is_available() else \"cpu\"))\n",
    "\n",
    "    # Calculate the cumulative loss and perplexity\n",
    "    total_loss = torch.sum(losses)  # Sum of all batch losses\n",
    "    perplexity = torch.exp(total_loss / len(losses))  # Perplexity: exp(loss / num_batches)\n",
    "\n",
    "    return {\n",
    "        \"eval_loss\": total_loss.item()/ len(losses),\n",
    "        \"perplexity\": perplexity.item(),\n",
    "    }"
   ]
  },
  {
   "cell_type": "code",
   "execution_count": null,
   "metadata": {},
   "outputs": [
    {
     "name": "stderr",
     "output_type": "stream",
     "text": [
      "/home/bhx5gh/Documents/NLP/NLP_Final_Political_Bias_Shifts/.venv/lib64/python3.11/site-packages/transformers/training_args.py:1568: FutureWarning: `evaluation_strategy` is deprecated and will be removed in version 4.46 of 🤗 Transformers. Use `eval_strategy` instead\n",
      "  warnings.warn(\n",
      "Detected kernel version 4.18.0, which is below the recommended minimum of 5.5.0; this can cause the process to hang. It is recommended to upgrade the kernel to the minimum version or higher.\n",
      "max_steps is given, it will override any value given in num_train_epochs\n"
     ]
    }
   ],
   "source": [
    "# set up trainer\n",
    "training_args = TrainingArguments(**training_args_dict)\n",
    "trainer = Trainer(\n",
    "    model=model,\n",
    "    args=training_args,\n",
    "    train_dataset=tokenized_datasets[\"train\"],\n",
    "    eval_dataset=tokenized_datasets[\"validation\"],\n",
    "    data_collator=data_collator,\n",
    "    compute_metrics=compute_metrics,\n",
    "    preprocess_logits_for_metrics=preprocess_logits_for_metrics   \n",
    ")"
   ]
  },
  {
   "cell_type": "code",
   "execution_count": null,
   "metadata": {},
   "outputs": [
    {
     "data": {
      "text/html": [
       "\n",
       "    <div>\n",
       "      \n",
       "      <progress value='20' max='20' style='width:300px; height:20px; vertical-align: middle;'></progress>\n",
       "      [20/20 11:53, Epoch 0/1]\n",
       "    </div>\n",
       "    <table border=\"1\" class=\"dataframe\">\n",
       "  <thead>\n",
       " <tr style=\"text-align: left;\">\n",
       "      <th>Step</th>\n",
       "      <th>Training Loss</th>\n",
       "      <th>Validation Loss</th>\n",
       "      <th>Perplexity</th>\n",
       "    </tr>\n",
       "  </thead>\n",
       "  <tbody>\n",
       "    <tr>\n",
       "      <td>10</td>\n",
       "      <td>3.159200</td>\n",
       "      <td>3.148452</td>\n",
       "      <td>23.285486</td>\n",
       "    </tr>\n",
       "    <tr>\n",
       "      <td>20</td>\n",
       "      <td>2.935100</td>\n",
       "      <td>3.145749</td>\n",
       "      <td>23.222681</td>\n",
       "    </tr>\n",
       "  </tbody>\n",
       "</table><p>"
      ],
      "text/plain": [
       "<IPython.core.display.HTML object>"
      ]
     },
     "metadata": {},
     "output_type": "display_data"
    },
    {
     "data": {
      "text/plain": [
       "TrainOutput(global_step=20, training_loss=3.047170639038086, metrics={'train_runtime': 718.0093, 'train_samples_per_second': 0.223, 'train_steps_per_second': 0.028, 'total_flos': 3496706687631360.0, 'train_loss': 3.047170639038086, 'epoch': 0.0019807863721897595})"
      ]
     },
     "execution_count": 11,
     "metadata": {},
     "output_type": "execute_result"
    }
   ],
   "source": [
    "trainer.train()"
   ]
  },
  {
   "cell_type": "code",
   "execution_count": null,
   "metadata": {},
   "outputs": [
    {
     "name": "stdout",
     "output_type": "stream",
     "text": [
      "[{'loss': 3.1592, 'grad_norm': 0.399615079164505, 'learning_rate': 2.5e-05, 'epoch': 0.0009903931860948797, 'step': 10}, {'eval_loss': 3.148451566696167, 'eval_perplexity': 23.285486221313477, 'eval_runtime': 337.895, 'eval_samples_per_second': 10.243, 'eval_steps_per_second': 2.563, 'epoch': 0.0009903931860948797, 'step': 10}, {'loss': 2.9351, 'grad_norm': 0.3370755910873413, 'learning_rate': 0.0, 'epoch': 0.0019807863721897595, 'step': 20}, {'eval_loss': 3.14574933052063, 'eval_perplexity': 23.222681045532227, 'eval_runtime': 339.2756, 'eval_samples_per_second': 10.201, 'eval_steps_per_second': 2.552, 'epoch': 0.0019807863721897595, 'step': 20}, {'train_runtime': 718.0093, 'train_samples_per_second': 0.223, 'train_steps_per_second': 0.028, 'total_flos': 3496706687631360.0, 'train_loss': 3.047170639038086, 'epoch': 0.0019807863721897595, 'step': 20}]\n",
      "[\n",
      "    {\n",
      "        \"loss\": 3.1592,\n",
      "        \"grad_norm\": 0.399615079164505,\n",
      "        \"learning_rate\": 2.5e-05,\n",
      "        \"epoch\": 0.0009903931860948797,\n",
      "        \"step\": 10\n",
      "    },\n",
      "    {\n",
      "        \"eval_loss\": 3.148451566696167,\n",
      "        \"eval_perplexity\": 23.285486221313477,\n",
      "        \"eval_runtime\": 337.895,\n",
      "        \"eval_samples_per_second\": 10.243,\n",
      "        \"eval_steps_per_second\": 2.563,\n",
      "        \"epoch\": 0.0009903931860948797,\n",
      "        \"step\": 10\n",
      "    },\n",
      "    {\n",
      "        \"loss\": 2.9351,\n",
      "        \"grad_norm\": 0.3370755910873413,\n",
      "        \"learning_rate\": 0.0,\n",
      "        \"epoch\": 0.0019807863721897595,\n",
      "        \"step\": 20\n",
      "    },\n",
      "    {\n",
      "        \"eval_loss\": 3.14574933052063,\n",
      "        \"eval_perplexity\": 23.222681045532227,\n",
      "        \"eval_runtime\": 339.2756,\n",
      "        \"eval_samples_per_second\": 10.201,\n",
      "        \"eval_steps_per_second\": 2.552,\n",
      "        \"epoch\": 0.0019807863721897595,\n",
      "        \"step\": 20\n",
      "    },\n",
      "    {\n",
      "        \"train_runtime\": 718.0093,\n",
      "        \"train_samples_per_second\": 0.223,\n",
      "        \"train_steps_per_second\": 0.028,\n",
      "        \"total_flos\": 3496706687631360.0,\n",
      "        \"train_loss\": 3.047170639038086,\n",
      "        \"epoch\": 0.0019807863721897595,\n",
      "        \"step\": 20\n",
      "    }\n",
      "]\n"
     ]
    }
   ],
   "source": [
    "import json\n",
    "print(trainer.state.log_history)\n",
    "print(json.dumps(trainer.state.log_history, indent = 4))"
   ]
  }
 ],
 "metadata": {
  "kernelspec": {
   "display_name": ".venv",
   "language": "python",
   "name": "python3"
  },
  "language_info": {
   "codemirror_mode": {
    "name": "ipython",
    "version": 3
   },
   "file_extension": ".py",
   "mimetype": "text/x-python",
   "name": "python",
   "nbconvert_exporter": "python",
   "pygments_lexer": "ipython3",
   "version": "3.11.5"
  }
 },
 "nbformat": 4,
 "nbformat_minor": 2
}
