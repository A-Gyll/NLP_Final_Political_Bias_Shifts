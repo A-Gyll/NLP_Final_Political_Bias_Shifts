{
 "cells": [
  {
   "cell_type": "code",
   "execution_count": 1,
   "metadata": {},
   "outputs": [],
   "source": [
    "from clean_comments_util import clean_comments, merge_comment_csvs\n",
    "import time\n"
   ]
  },
  {
   "cell_type": "code",
   "execution_count": 2,
   "metadata": {},
   "outputs": [
    {
     "name": "stdout",
     "output_type": "stream",
     "text": [
      "Pre Merge Total Comments: 5659716\n",
      "Post Merge Total Comments: 5659716\n",
      "0.4844220519065857\n"
     ]
    }
   ],
   "source": [
    "name = \"CNN\"\n",
    "merge_load_path_dir = \"/home/puschb/UVA/NLP/NLP_Final_Political_Bias_Shifts/data/Raw Data/\"\n",
    "merged_save_path = f\"/home/puschb/UVA/NLP/NLP_Final_Political_Bias_Shifts/data/Compiled Data/{name}_comments_compiled.csv\"\n",
    "\n",
    "\n",
    "time_start = time.time()\n",
    "merge_comment_csvs(merge_load_path_dir, name, merged_save_path)\n",
    "print((time.time() - time_start) / 60)"
   ]
  },
  {
   "cell_type": "code",
   "execution_count": 3,
   "metadata": {},
   "outputs": [
    {
     "name": "stdout",
     "output_type": "stream",
     "text": [
      "Total Comments (uncleaned): 5659716\n",
      "Total Cleaned Comments: 1648428\n",
      "7.6745664795239765\n"
     ]
    }
   ],
   "source": [
    "load_path = merged_save_path\n",
    "save_path = f\"/home/puschb/UVA/NLP/NLP_Final_Political_Bias_Shifts/data/Cleaned Data/{name}_comments_clean.csv\"\n",
    "\n",
    "time_start = time.time()\n",
    "clean_comments(load_path, save_path)\n",
    "print((time.time() - time_start) / 60)"
   ]
  },
  {
   "cell_type": "code",
   "execution_count": 3,
   "metadata": {},
   "outputs": [
    {
     "name": "stdout",
     "output_type": "stream",
     "text": [
      "This guy makes up some amazing words. \"we have raised guidance on topline revenue\" this guy is my hero.\n"
     ]
    }
   ],
   "source": [
    "import re\n",
    "\n",
    "test_string = \"This guy makes up some amazing words. &quot;we have raised guidance on topline revenue&quot; this guy is my hero.\"\n",
    "test_string = re.sub(r\"(&quot;)\", '\"', test_string)\n",
    "test_string = re.sub(r\"(&amp;#8211;)\", '–', test_string) #endash\n",
    "test_string = re.sub(r\"(&amp;)\", '&', test_string)  # & symbol\n",
    "test_string = re.sub(r\"(&lt;)\", '<', test_string)  # less than symbol\n",
    "test_string = re.sub(r\"(&gt;)\", '>', test_string)  # greater than symbol\n",
    "test_string =  re.sub(r\"(&#39;)\", \"'\", test_string)  # single quote\n",
    "test_string =  re.sub(r\"(&quot;)\", '\"', test_string)  # double quote\n",
    "print(test_string)"
   ]
  },
  {
   "cell_type": "code",
   "execution_count": 4,
   "metadata": {},
   "outputs": [
    {
     "name": "stdout",
     "output_type": "stream",
     "text": [
      "This guy makes up some amazing words. \"we have raised guidance on topline revenue\" this guy is my hero.\n"
     ]
    }
   ],
   "source": [
    "import pandas as pd\n",
    "df = pd.read_csv(save_path,encoding='utf-8')\n",
    "print(df['comment'][0])"
   ]
  }
 ],
 "metadata": {
  "kernelspec": {
   "display_name": "nlpenv",
   "language": "python",
   "name": "python3"
  },
  "language_info": {
   "codemirror_mode": {
    "name": "ipython",
    "version": 3
   },
   "file_extension": ".py",
   "mimetype": "text/x-python",
   "name": "python",
   "nbconvert_exporter": "python",
   "pygments_lexer": "ipython3",
   "version": "3.12.5"
  }
 },
 "nbformat": 4,
 "nbformat_minor": 2
}
