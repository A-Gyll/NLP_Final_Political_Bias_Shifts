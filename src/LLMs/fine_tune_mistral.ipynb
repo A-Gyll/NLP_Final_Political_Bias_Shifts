{
 "cells": [
  {
   "cell_type": "code",
   "execution_count": 1,
   "metadata": {},
   "outputs": [
    {
     "name": "stderr",
     "output_type": "stream",
     "text": [
      "/home/puschb/UVA/NLP/NLP_Final_Political_Bias_Shifts/.venv/lib/python3.10/site-packages/tqdm/auto.py:21: TqdmWarning: IProgress not found. Please update jupyter and ipywidgets. See https://ipywidgets.readthedocs.io/en/stable/user_install.html\n",
      "  from .autonotebook import tqdm as notebook_tqdm\n"
     ]
    }
   ],
   "source": [
    "import pandas as pd\n",
    "from sklearn.model_selection import train_test_split\n",
    "from transformers import AutoTokenizer, AutoModelForCausalLM, Trainer, TrainingArguments, DataCollatorForLanguageModeling\n",
    "import torch\n",
    "from peft import get_peft_model, LoraConfig, TaskType\n",
    "from datasets import Dataset, DatasetDict\n",
    "from fine_tune_util import compute_metrics, preprocess_logits_for_metrics\n",
    "from datetime import datetime"
   ]
  },
  {
   "cell_type": "code",
   "execution_count": 2,
   "metadata": {},
   "outputs": [
    {
     "name": "stdout",
     "output_type": "stream",
     "text": [
      "NVIDIA GeForce RTX 3080 Laptop GPU\n",
      "8589410304\n"
     ]
    }
   ],
   "source": [
    "print(torch.cuda.get_device_name(0))\n",
    "print(torch.cuda.get_device_properties(0).total_memory)"
   ]
  },
  {
   "cell_type": "code",
   "execution_count": 3,
   "metadata": {},
   "outputs": [],
   "source": [
    "##################################### All Configuration ###################################\n",
    "# This should be the only part of this code that is getting modified                      #\n",
    "model_name = \"meta-llama_Llama-3.2-3B\" #\"mistralai_Mistral-7B-v0_1\"                                                  #\n",
    "model_path = f\"../Local Models/{model_name}\"                                              #                                                      \n",
    "                                                                                          #\n",
    "from_pretrained_params_dict = {                                                           #\n",
    "    \"pretrained_model_name_or_path\" : model_path,                                         #\n",
    "    #\"load_in_8bit\":True,                                                                 #\n",
    "    \"device_map\":\"auto\",                                                                  #\n",
    "    \"torch_dtype\": torch.float16                                                          #\n",
    "}                                                                                         #\n",
    "                                                                                          #\n",
    "lora_config_params_dict = {                                                               #\n",
    "    \"lora_alpha\":4,#16,                                                                      #\n",
    "    \"lora_dropout\":0.1,                                                                   #\n",
    "    \"r\":8,#64,                                                                               #\n",
    "    \"bias\":\"none\",                                                                        #\n",
    "    \"task_type\":TaskType.CAUSAL_LM,                                                       #\n",
    "    #\"target_modules\": [\"q_proj\", \"k_proj\", \"v_proj\", \"o_proj\", \"gate_proj\", \"up_proj\"     #\n",
    "     #               \"down_proj\", \"lm_head\"]                                               #\n",
    "}                                                                                         #\n",
    "                                                                                          #\n",
    "quantization_params_dict = {                                                              #\n",
    "                                                                                          #\n",
    "}                                                                                         #\n",
    "                                                                                          #\n",
    "tokenizer_params_dict = {                                                                 #\n",
    "  \"truncation\":False,\n",
    "  \"padding\": False,\n",
    "  \"return_tensors\": None,                                                                      #\n",
    "  #\"max_length\":1024                                                                       #\n",
    "}                                                                                         #\n",
    "                                                                                          #\n",
    "cur_datetime = datetime.now().strftime(\"%Y-%m-%d %H-%M-%S\")                               #\n",
    "checkpoint_dir = f\"../../fine_tuned_llms/{model_name}/checkpoints/{cur_datetime}/\"        #\n",
    "metrics_dir = f\"{checkpoint_dir}/metrics\"                                                 #                                                                                          \n",
    "                                                                                          #\n",
    "training_args_dict = {                                                                    #                 \n",
    "  \"output_dir\":checkpoint_dir,                                                            #                              \n",
    "  \"per_device_train_batch_size\":2, # using A40 gpu, not sure if rivanna can handle more,  #                                                                                         \n",
    "                                    # sticking with this for now                          #                                                                \n",
    "  \"per_device_eval_batch_size\":2,                                                         #                                 \n",
    "  #\"num_train_epochs\":3,                                                                  #                        \n",
    "  \"max_steps\": 101,                                                                       #                   \n",
    "  \"evaluation_strategy\":\"steps\",                                                          #                                \n",
    "  \"save_strategy\":\"steps\",                                                                #                          \n",
    "  \"eval_steps\":10,                                                                        #                  \n",
    "  \"save_steps\":10,                                                                        #                  \n",
    "  \"load_best_model_at_end\":True,                                                          #                                \n",
    "  \"metric_for_best_model\":\"perplexity\",   # Select the best model based on perplexity     #                                                                                     \n",
    "  \"greater_is_better\":False,              # Lower perplexity is better                    #                                                                      \n",
    "  \"logging_dir\":metrics_dir,                                                              #                            \n",
    "  \"fp16\":True,                                                                            #              \n",
    "  #save_total_limit=3, # only keeping best 3                                              #                                            \n",
    "}                                                                                         # \n",
    "###########################################################################################"
   ]
  },
  {
   "cell_type": "code",
   "execution_count": 4,
   "metadata": {},
   "outputs": [],
   "source": [
    "#load dataset\n",
    "\n",
    "seed = 210\n",
    "\n",
    "data = pd.read_csv(\"../../data/Cleaned Data/CNN_comments_clean.csv\")  \n",
    "comments = data[\"comment\"].astype(str).sample(frac=0.1, random_state=seed)\n",
    "\n",
    "train_comments, test_comments = train_test_split(comments, test_size=0.3, random_state=seed)\n",
    "val_comments, test_comments = train_test_split(test_comments, test_size=0.5, random_state=seed)\n",
    "\n",
    "train_dataset = Dataset.from_pandas(pd.DataFrame({\"text\": train_comments}))\n",
    "val_dataset = Dataset.from_pandas(pd.DataFrame({\"text\": val_comments}))\n",
    "test_dataset = Dataset.from_pandas(pd.DataFrame({\"text\": test_comments}))\n",
    "\n",
    "dataset = DatasetDict({\n",
    "    \"train\": train_dataset,\n",
    "    \"validation\": val_dataset,\n",
    "    \"test\": test_dataset\n",
    "})"
   ]
  },
  {
   "cell_type": "code",
   "execution_count": 5,
   "metadata": {},
   "outputs": [
    {
     "name": "stderr",
     "output_type": "stream",
     "text": [
      "Loading checkpoint shards: 100%|██████████| 2/2 [00:02<00:00,  1.29s/it]"
     ]
    },
    {
     "name": "stdout",
     "output_type": "stream",
     "text": [
      "PeftModelForCausalLM(\n",
      "  (base_model): LoraModel(\n",
      "    (model): LlamaForCausalLM(\n",
      "      (model): LlamaModel(\n",
      "        (embed_tokens): Embedding(128256, 3072)\n",
      "        (layers): ModuleList(\n",
      "          (0-27): 28 x LlamaDecoderLayer(\n",
      "            (self_attn): LlamaSdpaAttention(\n",
      "              (q_proj): lora.Linear(\n",
      "                (base_layer): Linear(in_features=3072, out_features=3072, bias=False)\n",
      "                (lora_dropout): ModuleDict(\n",
      "                  (default): Dropout(p=0.1, inplace=False)\n",
      "                )\n",
      "                (lora_A): ModuleDict(\n",
      "                  (default): Linear(in_features=3072, out_features=8, bias=False)\n",
      "                )\n",
      "                (lora_B): ModuleDict(\n",
      "                  (default): Linear(in_features=8, out_features=3072, bias=False)\n",
      "                )\n",
      "                (lora_embedding_A): ParameterDict()\n",
      "                (lora_embedding_B): ParameterDict()\n",
      "                (lora_magnitude_vector): ModuleDict()\n",
      "              )\n",
      "              (k_proj): Linear(in_features=3072, out_features=1024, bias=False)\n",
      "              (v_proj): lora.Linear(\n",
      "                (base_layer): Linear(in_features=3072, out_features=1024, bias=False)\n",
      "                (lora_dropout): ModuleDict(\n",
      "                  (default): Dropout(p=0.1, inplace=False)\n",
      "                )\n",
      "                (lora_A): ModuleDict(\n",
      "                  (default): Linear(in_features=3072, out_features=8, bias=False)\n",
      "                )\n",
      "                (lora_B): ModuleDict(\n",
      "                  (default): Linear(in_features=8, out_features=1024, bias=False)\n",
      "                )\n",
      "                (lora_embedding_A): ParameterDict()\n",
      "                (lora_embedding_B): ParameterDict()\n",
      "                (lora_magnitude_vector): ModuleDict()\n",
      "              )\n",
      "              (o_proj): Linear(in_features=3072, out_features=3072, bias=False)\n",
      "              (rotary_emb): LlamaRotaryEmbedding()\n",
      "            )\n",
      "            (mlp): LlamaMLP(\n",
      "              (gate_proj): Linear(in_features=3072, out_features=8192, bias=False)\n",
      "              (up_proj): Linear(in_features=3072, out_features=8192, bias=False)\n",
      "              (down_proj): Linear(in_features=8192, out_features=3072, bias=False)\n",
      "              (act_fn): SiLU()\n",
      "            )\n",
      "            (input_layernorm): LlamaRMSNorm((3072,), eps=1e-05)\n",
      "            (post_attention_layernorm): LlamaRMSNorm((3072,), eps=1e-05)\n",
      "          )\n",
      "        )\n",
      "        (norm): LlamaRMSNorm((3072,), eps=1e-05)\n",
      "        (rotary_emb): LlamaRotaryEmbedding()\n",
      "      )\n",
      "      (lm_head): Linear(in_features=3072, out_features=128256, bias=False)\n",
      "    )\n",
      "  )\n",
      ")\n"
     ]
    },
    {
     "name": "stderr",
     "output_type": "stream",
     "text": [
      "\n"
     ]
    }
   ],
   "source": [
    "# set up model\n",
    "tokenizer = AutoTokenizer.from_pretrained(model_path)\n",
    "model = AutoModelForCausalLM.from_pretrained(**from_pretrained_params_dict)\n",
    "peft_config =  LoraConfig(**lora_config_params_dict)\n",
    "model = get_peft_model(model, peft_config)\n",
    "print(model)"
   ]
  },
  {
   "cell_type": "code",
   "execution_count": 6,
   "metadata": {},
   "outputs": [],
   "source": [
    "#set up tokenizer\n",
    "tokenizer.pad_token = tokenizer.eos_token  # maybe this instead?: tokenizer.add_special_tokens({'pad_token': '[PAD]'})\n",
    "# using EOS should be fine since we want to talk like youtube comments\n",
    "tokenizer.padding_side = \"right\"\n",
    "def tokenize_function(examples):\n",
    "    return tokenizer(examples[\"text\"], **tokenizer_params_dict) # we don't do padding here, we let the data collater handle it"
   ]
  },
  {
   "cell_type": "code",
   "execution_count": 7,
   "metadata": {},
   "outputs": [
    {
     "name": "stderr",
     "output_type": "stream",
     "text": [
      "Map: 100%|██████████| 115390/115390 [00:05<00:00, 22914.62 examples/s]\n",
      "Map: 100%|██████████| 24726/24726 [00:01<00:00, 24365.13 examples/s]\n",
      "Map: 100%|██████████| 24727/24727 [00:01<00:00, 21938.82 examples/s]"
     ]
    },
    {
     "name": "stdout",
     "output_type": "stream",
     "text": [
      "DatasetDict({\n",
      "    train: Dataset({\n",
      "        features: ['input_ids', 'attention_mask'],\n",
      "        num_rows: 115390\n",
      "    })\n",
      "    validation: Dataset({\n",
      "        features: ['input_ids', 'attention_mask'],\n",
      "        num_rows: 24726\n",
      "    })\n",
      "    test: Dataset({\n",
      "        features: ['input_ids', 'attention_mask'],\n",
      "        num_rows: 24727\n",
      "    })\n",
      "})\n"
     ]
    },
    {
     "name": "stderr",
     "output_type": "stream",
     "text": [
      "\n"
     ]
    }
   ],
   "source": [
    "# Tokenize each split and remove the 'text' column\n",
    "tokenized_datasets = dataset.map(tokenize_function, batched=True, remove_columns=[\"text\"])\n",
    "\n",
    "# Add 'labels' field for causal language modeling\n",
    "#tokenized_datasets = tokenized_datasets.map(lambda examples: {\"labels\": examples[\"input_ids\"]})\n",
    "tokenized_datasets = tokenized_datasets.remove_columns([\"__index_level_0__\"])\n",
    "print(tokenized_datasets)\n",
    "\n",
    "data_collator = DataCollatorForLanguageModeling(tokenizer=tokenizer, mlm=False, pad_to_multiple_of=8)"
   ]
  },
  {
   "cell_type": "code",
   "execution_count": 8,
   "metadata": {},
   "outputs": [],
   "source": [
    "#print(tokenized_datasets['train']['labels'][0])"
   ]
  },
  {
   "cell_type": "code",
   "execution_count": 9,
   "metadata": {},
   "outputs": [
    {
     "name": "stderr",
     "output_type": "stream",
     "text": [
      "/home/puschb/UVA/NLP/NLP_Final_Political_Bias_Shifts/.venv/lib/python3.10/site-packages/transformers/training_args.py:1559: FutureWarning: `evaluation_strategy` is deprecated and will be removed in version 4.46 of 🤗 Transformers. Use `eval_strategy` instead\n",
      "  warnings.warn(\n",
      "max_steps is given, it will override any value given in num_train_epochs\n"
     ]
    }
   ],
   "source": [
    "# set up trainer\n",
    "training_args = TrainingArguments(**training_args_dict)\n",
    "trainer = Trainer(\n",
    "    model=model,\n",
    "    args=training_args,\n",
    "    train_dataset=tokenized_datasets[\"train\"],\n",
    "    eval_dataset=tokenized_datasets[\"validation\"],\n",
    "    data_collator=data_collator,\n",
    "    compute_metrics=compute_metrics,\n",
    "    preprocess_logits_for_metrics=preprocess_logits_for_metrics   \n",
    ")"
   ]
  },
  {
   "cell_type": "code",
   "execution_count": null,
   "metadata": {},
   "outputs": [
    {
     "data": {
      "text/html": [
       "\n",
       "    <div>\n",
       "      \n",
       "      <progress value='4' max='101' style='width:300px; height:20px; vertical-align: middle;'></progress>\n",
       "      [  4/101 00:00 < 00:11, 8.39 it/s, Epoch 0.00/1]\n",
       "    </div>\n",
       "    <table border=\"1\" class=\"dataframe\">\n",
       "  <thead>\n",
       " <tr style=\"text-align: left;\">\n",
       "      <th>Step</th>\n",
       "      <th>Training Loss</th>\n",
       "      <th>Validation Loss</th>\n",
       "    </tr>\n",
       "  </thead>\n",
       "  <tbody>\n",
       "  </tbody>\n",
       "</table><p>"
      ],
      "text/plain": [
       "<IPython.core.display.HTML object>"
      ]
     },
     "metadata": {},
     "output_type": "display_data"
    }
   ],
   "source": [
    "trainer.train()"
   ]
  }
 ],
 "metadata": {
  "kernelspec": {
   "display_name": ".venv",
   "language": "python",
   "name": "python3"
  },
  "language_info": {
   "codemirror_mode": {
    "name": "ipython",
    "version": 3
   },
   "file_extension": ".py",
   "mimetype": "text/x-python",
   "name": "python",
   "nbconvert_exporter": "python",
   "pygments_lexer": "ipython3",
   "version": "3.10.12"
  }
 },
 "nbformat": 4,
 "nbformat_minor": 2
}
