{
 "cells": [
  {
   "cell_type": "code",
   "execution_count": 1,
   "metadata": {},
   "outputs": [
    {
     "name": "stderr",
     "output_type": "stream",
     "text": [
      "/home/bhx5gh/Documents/NLP/NLP_Final_Political_Bias_Shifts/.venv/lib64/python3.11/site-packages/tqdm/auto.py:21: TqdmWarning: IProgress not found. Please update jupyter and ipywidgets. See https://ipywidgets.readthedocs.io/en/stable/user_install.html\n",
      "  from .autonotebook import tqdm as notebook_tqdm\n"
     ]
    }
   ],
   "source": [
    "import optuna\n",
    "import pandas as pd\n",
    "from sklearn.model_selection import train_test_split\n",
    "from transformers import AutoTokenizer, AutoModelForCausalLM, Trainer, TrainingArguments, DataCollatorForLanguageModeling\n",
    "import torch\n",
    "from peft import get_peft_model, LoraConfig, TaskType\n",
    "from datasets import Dataset, DatasetDict\n",
    "from fine_tune_util import EvalSampleDatasetTrainer, compute_metrics, preprocess_logits_for_metrics, token_length_histogram, save_dicts_to_csv, save_metrics\n",
    "from datetime import datetime\n",
    "import gc"
   ]
  },
  {
   "cell_type": "code",
   "execution_count": 2,
   "metadata": {},
   "outputs": [],
   "source": [
    "# This should be the only part of this code that is getting modified\n",
    "model_name = \"mistralai_Mistral-7B-v0_1\" #\"meta-llama_Llama-3.2-3B\" #       'meta-llama_Llama-3.2-1B'#                                       #\n",
    "model_path = f\"../Local Models/{model_name}\"\n",
    "from_pretrained_params_dict = {\n",
    "    \"pretrained_model_name_or_path\" : model_path,\n",
    "    \"device_map\":\"auto\",\n",
    "    \"torch_dtype\": torch.float16\n",
    "    }\n",
    "\n",
    "lora_config_params_dict = {\n",
    "    \"lora_alpha\":16,\n",
    "    \"lora_dropout\":0.1,\n",
    "    \"r\":64,\n",
    "    \"bias\":\"none\",\n",
    "    \"task_type\":TaskType.CAUSAL_LM,\n",
    "    }\n",
    "\n",
    "quantization_params_dict = {}\n",
    "\n",
    "tokenizer_params_dict = {\n",
    "  \"truncation\":True,\n",
    "  \"padding\": True,\n",
    "  \"max_length\":384\n",
    "  }\n",
    "\n",
    "cur_datetime = datetime.now().strftime(\"%Y-%m-%d %H-%M-%S\")\n",
    "checkpoint_dir = f\"../../fine_tuned_llms/{model_name}/checkpoints/{cur_datetime}\"\n",
    "metrics_dir = f\"{checkpoint_dir}/metrics.json\"\n",
    "\n",
    "training_args_dict = {                 \n",
    "  \"output_dir\":checkpoint_dir,\n",
    "  \"per_device_train_batch_size\":24,\n",
    "  \"per_device_eval_batch_size\":32,\n",
    "  \"max_steps\": 1000,\n",
    "  \"evaluation_strategy\":\"no\",\n",
    "  \"save_strategy\":\"no\",\n",
    "  \"load_best_model_at_end\":True,\n",
    "  \"metric_for_best_model\":\"perplexity\",\n",
    "  \"greater_is_better\":False,\n",
    "  \"fp16\":True,\n",
    "  \"learning_rate\":  1e-4,\n",
    "  \"lr_scheduler_type\":'linear',\n",
    "  \"warmup_steps\" : 100,\n",
    "\n",
    "  }"
   ]
  },
  {
   "cell_type": "code",
   "execution_count": 3,
   "metadata": {},
   "outputs": [],
   "source": [
    "#load dataset\n",
    "seed = 210\n",
    "\n",
    "data = pd.read_csv(\"../../data/Cleaned Data/CNN_comments_clean.csv\")  \n",
    "comments = data[\"comment\"].astype(str).sample(frac=0.1, random_state=seed)\n",
    "\n",
    "train_comments, test_comments = train_test_split(comments, test_size=0.3, random_state=seed)\n",
    "val_comments, test_comments = train_test_split(test_comments, test_size=0.5, random_state=seed)\n",
    "\n",
    "train_dataset = Dataset.from_pandas(pd.DataFrame({\"text\": train_comments}))\n",
    "val_dataset = Dataset.from_pandas(pd.DataFrame({\"text\": val_comments}))\n",
    "test_dataset = Dataset.from_pandas(pd.DataFrame({\"text\": test_comments}))\n",
    "\n",
    "dataset = DatasetDict({\n",
    "    \"train\": train_dataset,\n",
    "    \"validation\": val_dataset,\n",
    "    \"test\": test_dataset\n",
    "})"
   ]
  },
  {
   "cell_type": "code",
   "execution_count": 4,
   "metadata": {},
   "outputs": [
    {
     "name": "stderr",
     "output_type": "stream",
     "text": [
      "Map: 100%|██████████| 115390/115390 [00:23<00:00, 4871.58 examples/s]\n",
      "Map: 100%|██████████| 24726/24726 [00:04<00:00, 5252.64 examples/s]\n",
      "Map: 100%|██████████| 24727/24727 [00:04<00:00, 5758.84 examples/s]\n"
     ]
    }
   ],
   "source": [
    "tokenizer = AutoTokenizer.from_pretrained(model_path, use_fast = True)\n",
    "tokenizer.pad_token = tokenizer.eos_token \n",
    "tokenizer.padding_side = \"right\"\n",
    "def tokenize_function(examples):\n",
    "    return tokenizer(examples[\"text\"], **tokenizer_params_dict) \n",
    "\n",
    "tokenized_datasets = dataset.map(tokenize_function, batched=True, remove_columns=[\"text\"])\n",
    "tokenized_datasets = tokenized_datasets.remove_columns([\"__index_level_0__\"])\n",
    "data_collator = DataCollatorForLanguageModeling(tokenizer=tokenizer, mlm=False)"
   ]
  },
  {
   "cell_type": "code",
   "execution_count": 5,
   "metadata": {},
   "outputs": [],
   "source": [
    "def tune_hyperparameters():\n",
    "    study = optuna.create_study(direction=\"minimize\")\n",
    "    study.optimize(objective, n_trials=15)\n",
    "    return study\n",
    "\n",
    "def objective(trial):\n",
    "    lr = trial.suggest_uniform('lr',1e-7, 5e-5)\n",
    "    r = trial.suggest_categorical('r', [32,64,128])\n",
    "    lora_alpha = trial.suggest_categorical('lora_alpha', [8,16,32])\n",
    "\n",
    "    lora_config_params_dict['lora_alpha'] = lora_alpha\n",
    "    lora_config_params_dict['r'] = r\n",
    "    training_args_dict['learning_rate'] = lr\n",
    "    \n",
    "    model = AutoModelForCausalLM.from_pretrained(**from_pretrained_params_dict)\n",
    "    peft_config =  LoraConfig(**lora_config_params_dict)\n",
    "    model = get_peft_model(model, peft_config)\n",
    "\n",
    "    training_args = TrainingArguments(**training_args_dict)\n",
    "    trainer = EvalSampleDatasetTrainer(\n",
    "        eval_sample_size_proportion = .25,\n",
    "        seed = seed,\n",
    "        model=model,\n",
    "        args=training_args,\n",
    "        train_dataset=tokenized_datasets[\"train\"],\n",
    "        eval_dataset=tokenized_datasets[\"validation\"],\n",
    "        data_collator=data_collator,\n",
    "        compute_metrics=compute_metrics,\n",
    "        preprocess_logits_for_metrics=preprocess_logits_for_metrics,\n",
    "    )\n",
    "\n",
    "    trainer.train()\n",
    "    perplexity = trainer.evaluate()['eval_perplexity']\n",
    "    del model, peft_config, training_args, trainer\n",
    "    gc.collect()\n",
    "    torch.cuda.empty_cache()\n",
    "    return perplexity\n",
    "    "
   ]
  },
  {
   "cell_type": "code",
   "execution_count": 6,
   "metadata": {},
   "outputs": [
    {
     "name": "stderr",
     "output_type": "stream",
     "text": [
      "[I 2024-12-14 13:23:32,267] A new study created in memory with name: no-name-4fd284b7-aad7-4a33-89a9-d3dc2f75d2f4\n",
      "/tmp/ipykernel_6886/2909866860.py:7: FutureWarning: suggest_uniform has been deprecated in v3.0.0. This feature will be removed in v6.0.0. See https://github.com/optuna/optuna/releases/tag/v3.0.0. Use suggest_float instead.\n",
      "  lr = trial.suggest_uniform('lr',1e-7, 5e-5)\n",
      "huggingface/tokenizers: The current process just got forked, after parallelism has already been used. Disabling parallelism to avoid deadlocks...\n",
      "To disable this warning, you can either:\n",
      "\t- Avoid using `tokenizers` before the fork if possible\n",
      "\t- Explicitly set the environment variable TOKENIZERS_PARALLELISM=(true | false)\n",
      "huggingface/tokenizers: The current process just got forked, after parallelism has already been used. Disabling parallelism to avoid deadlocks...\n",
      "To disable this warning, you can either:\n",
      "\t- Avoid using `tokenizers` before the fork if possible\n",
      "\t- Explicitly set the environment variable TOKENIZERS_PARALLELISM=(true | false)\n",
      "Loading checkpoint shards: 100%|██████████| 2/2 [00:16<00:00,  8.37s/it]\n",
      "/home/bhx5gh/Documents/NLP/NLP_Final_Political_Bias_Shifts/.venv/lib64/python3.11/site-packages/transformers/training_args.py:1568: FutureWarning: `evaluation_strategy` is deprecated and will be removed in version 4.46 of 🤗 Transformers. Use `eval_strategy` instead\n",
      "  warnings.warn(\n",
      "Detected kernel version 4.18.0, which is below the recommended minimum of 5.5.0; this can cause the process to hang. It is recommended to upgrade the kernel to the minimum version or higher.\n",
      "max_steps is given, it will override any value given in num_train_epochs\n"
     ]
    },
    {
     "data": {
      "text/html": [
       "\n",
       "    <div>\n",
       "      \n",
       "      <progress value='36' max='1000' style='width:300px; height:20px; vertical-align: middle;'></progress>\n",
       "      [  36/1000 00:56 < 26:47, 0.60 it/s, Epoch 0.01/1]\n",
       "    </div>\n",
       "    <table border=\"1\" class=\"dataframe\">\n",
       "  <thead>\n",
       " <tr style=\"text-align: left;\">\n",
       "      <th>Step</th>\n",
       "      <th>Training Loss</th>\n",
       "    </tr>\n",
       "  </thead>\n",
       "  <tbody>\n",
       "  </tbody>\n",
       "</table><p>"
      ],
      "text/plain": [
       "<IPython.core.display.HTML object>"
      ]
     },
     "metadata": {},
     "output_type": "display_data"
    }
   ],
   "source": [
    "study = tune_hyperparameters()\n",
    "df = study.trials_dataframe(attrs=(\"number\", \"value\", \"params\", \"state\"))\n",
    "df.to_csv('/home/bhx5gh/Documents/NLP/NLP_Final_Political_Bias_Shifts/src/LLMs/mistral_hyper_param_tuning_results.csv')"
   ]
  }
 ],
 "metadata": {
  "kernelspec": {
   "display_name": ".venv",
   "language": "python",
   "name": "python3"
  },
  "language_info": {
   "codemirror_mode": {
    "name": "ipython",
    "version": 3
   },
   "file_extension": ".py",
   "mimetype": "text/x-python",
   "name": "python",
   "nbconvert_exporter": "python",
   "pygments_lexer": "ipython3",
   "version": "3.11.5"
  }
 },
 "nbformat": 4,
 "nbformat_minor": 2
}
