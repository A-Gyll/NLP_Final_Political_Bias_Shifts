{
 "cells": [
  {
   "cell_type": "code",
   "execution_count": 1,
   "metadata": {},
   "outputs": [
    {
     "name": "stderr",
     "output_type": "stream",
     "text": [
      "/home/bhx5gh/Documents/NLP/NLP_Final_Political_Bias_Shifts/.venv/lib64/python3.11/site-packages/tqdm/auto.py:21: TqdmWarning: IProgress not found. Please update jupyter and ipywidgets. See https://ipywidgets.readthedocs.io/en/stable/user_install.html\n",
      "  from .autonotebook import tqdm as notebook_tqdm\n"
     ]
    }
   ],
   "source": [
    "import pandas as pd\n",
    "from sklearn.model_selection import train_test_split\n",
    "from transformers import AutoTokenizer, AutoModelForCausalLM, Trainer, TrainingArguments, DataCollatorForLanguageModeling, BitsAndBytesConfig\n",
    "import torch\n",
    "from peft import get_peft_model, LoraConfig, TaskType\n",
    "from datasets import Dataset, DatasetDict\n",
    "from fine_tune_util import compute_metrics, preprocess_logits_for_metrics, token_length_histogram, save_dicts_to_csv, save_metrics\n",
    "from datetime import datetime\n",
    "import os\n",
    "os.environ[\"CUDA_VISIBLE_DEVICES\"] = \"0\""
   ]
  },
  {
   "cell_type": "code",
   "execution_count": 2,
   "metadata": {},
   "outputs": [
    {
     "name": "stdout",
     "output_type": "stream",
     "text": [
      "NVIDIA A40\n",
      "47608692736\n"
     ]
    }
   ],
   "source": [
    "print(torch.cuda.get_device_name(0))\n",
    "print(torch.cuda.get_device_properties(0).total_memory)"
   ]
  },
  {
   "cell_type": "code",
   "execution_count": 3,
   "metadata": {},
   "outputs": [],
   "source": [
    "##################################### All Configuration ###################################\n",
    "# This should be the only part of this code that is getting modified                      #\n",
    "model_name = \"meta-llama_Llama-3.2-3B\" #           \"mistralai_Mistral-7B-v0_1\"                                   #\n",
    "model_path = f\"../Local Models/{model_name}\"                                              #                                                      \n",
    "\n",
    "quantization_params_dict = {\n",
    "  \"load_in_4bit\":True,\n",
    "  \"bnb_4bit_quant_type\":\"nf4\",\n",
    "  \"bnb_4bit_compute_dtype\":torch.float16,\n",
    "  \"bnb_4bit_use_double_quant\":True,\n",
    "  \"bnb_4bit_quant_storage\":torch.float16,                                                                                                                                                    \n",
    "}                                                                                           \n",
    "from_pretrained_params_dict = {                                                          \n",
    "    \"pretrained_model_name_or_path\" : model_path,                                                                  \n",
    "     \"device_map\":\"auto\",                                                                 \n",
    "    \"torch_dtype\": torch.float16  ,\n",
    "    \"quantization_config\": BitsAndBytesConfig(**quantization_params_dict)                                                       \n",
    "}                                                                                        \n",
    "                                                                                         \n",
    "lora_config_params_dict = {                                                              \n",
    "    \"lora_alpha\":16,                                                                     \n",
    "    \"lora_dropout\":0.1,                                                                  \n",
    "    \"r\":64,                                                                              \n",
    "    \"bias\":\"none\",                                                                       \n",
    "    \"task_type\":TaskType.CAUSAL_LM,                                                      \n",
    "    #\"target_modules\": [\"q_proj\", \"k_proj\", \"v_proj\", \"o_proj\", \"gate_proj\", \"up_proj\"     #\n",
    "     #               \"down_proj\", \"lm_head\"]                                               #\n",
    "}                                                                                         #                                                                                       \n",
    "                                                                                          \n",
    "tokenizer_params_dict = {                                                                 \n",
    "  \"truncation\":True,\n",
    "  \"padding\": True,\n",
    "  #\"return_tensors\": None,                                                                      #\n",
    "  \"max_length\":384                                                                       #\n",
    "}                                                                                         #\n",
    "                                                                                          #\n",
    "cur_datetime = datetime.now().strftime(\"%Y-%m-%d %H-%M-%S\")                               #\n",
    "checkpoint_dir = f\"../../fine_tuned_llms/{model_name}/checkpoints/{cur_datetime}\"        #\n",
    "metrics_dir = f\"{checkpoint_dir}/metrics.json\"                                              #                                                                                          \n",
    "                                                                                          #\n",
    "training_args_dict = {                                                                    #                 \n",
    "  \"output_dir\":checkpoint_dir,                                                            #                              \n",
    "  \"per_device_train_batch_size\":16, # using A40 gpu, not sure if rivanna can handle more,  #                                                                                         \n",
    "                                    # sticking with this for now                          #                                                                \n",
    "  \"per_device_eval_batch_size\":16,                                                         #                                 \n",
    "  \"num_train_epochs\":3,                                                                  #                        \n",
    "  #\"max_steps\": 30,                                                                       #                   \n",
    "  \"evaluation_strategy\":\"steps\",                                                          #                                \n",
    "  \"save_strategy\":\"steps\",                                                                #                          \n",
    "  \"eval_steps\":300,                                                                        #                  \n",
    "  \"save_steps\":300,                                                                        #                  \n",
    "  \"load_best_model_at_end\":True,                                                          #                                \n",
    "  \"metric_for_best_model\":\"perplexity\",   # Select the best model based on perplexity     #                                                                                     \n",
    "  \"greater_is_better\":False,              # Lower perplexity is better                    #                                                                      \n",
    "  \"logging_dir\":metrics_dir,   \n",
    "  \"logging_strategy\": \"steps\" , \n",
    "  \"logging_steps\": 10,                                                         #                            \n",
    "  \"fp16\":True, \n",
    "  \"learning_rate\":  1e-4,    \n",
    "  \"lr_scheduler_type\":'constant',\n",
    "  #\"adafactor\": True,\n",
    "  \"optim\": \"adamw_bnb_8bit\",\n",
    "  \"eval_on_start\": True,                                                                    #              \n",
    "  #save_total_limit=3, # only keeping best 3                                              #                                            \n",
    "}                                                                                         # \n",
    "###########################################################################################"
   ]
  },
  {
   "cell_type": "code",
   "execution_count": 4,
   "metadata": {},
   "outputs": [],
   "source": [
    "#load dataset\n",
    "\n",
    "seed = 210\n",
    "\n",
    "data = pd.read_csv(\"../../data/Cleaned Data/CNN_comments_clean.csv\")  \n",
    "comments = data[\"comment\"].astype(str).sample(frac=0.1, random_state=seed)\n",
    "\n",
    "train_comments, test_comments = train_test_split(comments, test_size=0.3, random_state=seed)\n",
    "val_comments, test_comments = train_test_split(test_comments, test_size=0.5, random_state=seed)\n",
    "\n",
    "train_dataset = Dataset.from_pandas(pd.DataFrame({\"text\": train_comments}))\n",
    "val_dataset = Dataset.from_pandas(pd.DataFrame({\"text\": val_comments}))\n",
    "test_dataset = Dataset.from_pandas(pd.DataFrame({\"text\": test_comments}))\n",
    "\n",
    "dataset = DatasetDict({\n",
    "    \"train\": train_dataset,\n",
    "    \"validation\": val_dataset,\n",
    "    \"test\": test_dataset\n",
    "})\n",
    "\n"
   ]
  },
  {
   "cell_type": "code",
   "execution_count": 5,
   "metadata": {},
   "outputs": [
    {
     "name": "stderr",
     "output_type": "stream",
     "text": [
      "Loading checkpoint shards: 100%|██████████| 2/2 [00:06<00:00,  3.41s/it]\n"
     ]
    },
    {
     "name": "stdout",
     "output_type": "stream",
     "text": [
      "PeftModelForCausalLM(\n",
      "  (base_model): LoraModel(\n",
      "    (model): LlamaForCausalLM(\n",
      "      (model): LlamaModel(\n",
      "        (embed_tokens): Embedding(128256, 3072)\n",
      "        (layers): ModuleList(\n",
      "          (0-27): 28 x LlamaDecoderLayer(\n",
      "            (self_attn): LlamaSdpaAttention(\n",
      "              (q_proj): lora.Linear4bit(\n",
      "                (base_layer): Linear4bit(in_features=3072, out_features=3072, bias=False)\n",
      "                (lora_dropout): ModuleDict(\n",
      "                  (default): Dropout(p=0.1, inplace=False)\n",
      "                )\n",
      "                (lora_A): ModuleDict(\n",
      "                  (default): Linear(in_features=3072, out_features=64, bias=False)\n",
      "                )\n",
      "                (lora_B): ModuleDict(\n",
      "                  (default): Linear(in_features=64, out_features=3072, bias=False)\n",
      "                )\n",
      "                (lora_embedding_A): ParameterDict()\n",
      "                (lora_embedding_B): ParameterDict()\n",
      "                (lora_magnitude_vector): ModuleDict()\n",
      "              )\n",
      "              (k_proj): Linear4bit(in_features=3072, out_features=1024, bias=False)\n",
      "              (v_proj): lora.Linear4bit(\n",
      "                (base_layer): Linear4bit(in_features=3072, out_features=1024, bias=False)\n",
      "                (lora_dropout): ModuleDict(\n",
      "                  (default): Dropout(p=0.1, inplace=False)\n",
      "                )\n",
      "                (lora_A): ModuleDict(\n",
      "                  (default): Linear(in_features=3072, out_features=64, bias=False)\n",
      "                )\n",
      "                (lora_B): ModuleDict(\n",
      "                  (default): Linear(in_features=64, out_features=1024, bias=False)\n",
      "                )\n",
      "                (lora_embedding_A): ParameterDict()\n",
      "                (lora_embedding_B): ParameterDict()\n",
      "                (lora_magnitude_vector): ModuleDict()\n",
      "              )\n",
      "              (o_proj): Linear4bit(in_features=3072, out_features=3072, bias=False)\n",
      "              (rotary_emb): LlamaRotaryEmbedding()\n",
      "            )\n",
      "            (mlp): LlamaMLP(\n",
      "              (gate_proj): Linear4bit(in_features=3072, out_features=8192, bias=False)\n",
      "              (up_proj): Linear4bit(in_features=3072, out_features=8192, bias=False)\n",
      "              (down_proj): Linear4bit(in_features=8192, out_features=3072, bias=False)\n",
      "              (act_fn): SiLU()\n",
      "            )\n",
      "            (input_layernorm): LlamaRMSNorm((3072,), eps=1e-05)\n",
      "            (post_attention_layernorm): LlamaRMSNorm((3072,), eps=1e-05)\n",
      "          )\n",
      "        )\n",
      "        (norm): LlamaRMSNorm((3072,), eps=1e-05)\n",
      "        (rotary_emb): LlamaRotaryEmbedding()\n",
      "      )\n",
      "      (lm_head): Linear(in_features=3072, out_features=128256, bias=False)\n",
      "    )\n",
      "  )\n",
      ")\n"
     ]
    }
   ],
   "source": [
    "# set up model\n",
    "tokenizer = AutoTokenizer.from_pretrained(model_path, use_fast = True)\n",
    "model = AutoModelForCausalLM.from_pretrained(**from_pretrained_params_dict)\n",
    "peft_config =  LoraConfig(**lora_config_params_dict)\n",
    "model = get_peft_model(model, peft_config)\n",
    "print(model)"
   ]
  },
  {
   "cell_type": "code",
   "execution_count": 6,
   "metadata": {},
   "outputs": [],
   "source": [
    "#set up tokenizer\n",
    "tokenizer.pad_token = tokenizer.eos_token  # maybe this instead?: tokenizer.add_special_tokens({'pad_token': '[PAD]'})\n",
    "# using EOS should be fine since we want to talk like youtube comments\n",
    "tokenizer.padding_side = \"right\"\n",
    "def tokenize_function(examples):\n",
    "    return tokenizer(examples[\"text\"], **tokenizer_params_dict) # we don't do padding here, we let the data collater handle it"
   ]
  },
  {
   "cell_type": "code",
   "execution_count": 7,
   "metadata": {},
   "outputs": [
    {
     "name": "stderr",
     "output_type": "stream",
     "text": [
      "Map: 100%|██████████| 115390/115390 [00:15<00:00, 7684.22 examples/s]\n",
      "Map: 100%|██████████| 24726/24726 [00:03<00:00, 8236.70 examples/s]\n",
      "Map: 100%|██████████| 24727/24727 [00:03<00:00, 7674.25 examples/s]"
     ]
    },
    {
     "name": "stdout",
     "output_type": "stream",
     "text": [
      "DatasetDict({\n",
      "    train: Dataset({\n",
      "        features: ['input_ids', 'attention_mask'],\n",
      "        num_rows: 115390\n",
      "    })\n",
      "    validation: Dataset({\n",
      "        features: ['input_ids', 'attention_mask'],\n",
      "        num_rows: 24726\n",
      "    })\n",
      "    test: Dataset({\n",
      "        features: ['input_ids', 'attention_mask'],\n",
      "        num_rows: 24727\n",
      "    })\n",
      "})\n"
     ]
    },
    {
     "name": "stderr",
     "output_type": "stream",
     "text": [
      "\n"
     ]
    }
   ],
   "source": [
    "# Tokenize each split and remove the 'text' column\n",
    "tokenized_datasets = dataset.map(tokenize_function, batched=True, remove_columns=[\"text\"])\n",
    "\n",
    "# Add 'labels' field for causal language modeling\n",
    "#tokenized_datasets = tokenized_datasets.map(lambda examples: {\"labels\": examples[\"input_ids\"]})\n",
    "tokenized_datasets = tokenized_datasets.remove_columns([\"__index_level_0__\"])\n",
    "print(tokenized_datasets)\n",
    "\n",
    "data_collator = DataCollatorForLanguageModeling(tokenizer=tokenizer, mlm=False)"
   ]
  },
  {
   "cell_type": "code",
   "execution_count": 8,
   "metadata": {},
   "outputs": [
    {
     "data": {
      "text/plain": [
       "\"token_length_histogram(tokenized_datasets, 'train')\\ntoken_length_histogram(tokenized_datasets, 'validation')\\ntoken_length_histogram(tokenized_datasets, 'test')\""
      ]
     },
     "execution_count": 8,
     "metadata": {},
     "output_type": "execute_result"
    }
   ],
   "source": [
    "'''token_length_histogram(tokenized_datasets, 'train')\n",
    "token_length_histogram(tokenized_datasets, 'validation')\n",
    "token_length_histogram(tokenized_datasets, 'test')'''"
   ]
  },
  {
   "cell_type": "code",
   "execution_count": 9,
   "metadata": {},
   "outputs": [
    {
     "name": "stderr",
     "output_type": "stream",
     "text": [
      "/home/bhx5gh/Documents/NLP/NLP_Final_Political_Bias_Shifts/.venv/lib64/python3.11/site-packages/transformers/training_args.py:1568: FutureWarning: `evaluation_strategy` is deprecated and will be removed in version 4.46 of 🤗 Transformers. Use `eval_strategy` instead\n",
      "  warnings.warn(\n",
      "Detected kernel version 4.18.0, which is below the recommended minimum of 5.5.0; this can cause the process to hang. It is recommended to upgrade the kernel to the minimum version or higher.\n"
     ]
    }
   ],
   "source": [
    "# set up trainer\n",
    "training_args = TrainingArguments(**training_args_dict)\n",
    "trainer = Trainer(\n",
    "    model=model,\n",
    "    args=training_args,\n",
    "    train_dataset=tokenized_datasets[\"train\"],\n",
    "    eval_dataset=tokenized_datasets[\"validation\"],\n",
    "    data_collator=data_collator,\n",
    "    compute_metrics=compute_metrics,\n",
    "    preprocess_logits_for_metrics=preprocess_logits_for_metrics   \n",
    ")"
   ]
  },
  {
   "cell_type": "code",
   "execution_count": 10,
   "metadata": {},
   "outputs": [
    {
     "data": {
      "text/html": [
       "\n",
       "    <div>\n",
       "      \n",
       "      <progress value='301' max='21636' style='width:300px; height:20px; vertical-align: middle;'></progress>\n",
       "      [  301/21636 08:06 < 9:38:19, 0.61 it/s, Epoch 0.04/3]\n",
       "    </div>\n",
       "    <table border=\"1\" class=\"dataframe\">\n",
       "  <thead>\n",
       " <tr style=\"text-align: left;\">\n",
       "      <th>Step</th>\n",
       "      <th>Training Loss</th>\n",
       "      <th>Validation Loss</th>\n",
       "    </tr>\n",
       "  </thead>\n",
       "  <tbody>\n",
       "  </tbody>\n",
       "</table><p>\n",
       "    <div>\n",
       "      \n",
       "      <progress value='211' max='1546' style='width:300px; height:20px; vertical-align: middle;'></progress>\n",
       "      [ 211/1546 02:17 < 14:35, 1.53 it/s]\n",
       "    </div>\n",
       "    "
      ],
      "text/plain": [
       "<IPython.core.display.HTML object>"
      ]
     },
     "metadata": {},
     "output_type": "display_data"
    }
   ],
   "source": [
    "trainer.train()"
   ]
  },
  {
   "cell_type": "code",
   "execution_count": null,
   "metadata": {},
   "outputs": [],
   "source": [
    "save_metrics(trainer.state.log_history, f'{checkpoint_dir}/metrics.json')\n",
    "\n",
    "hyperparams = {\n",
    "    \"from_pretrained_params\": from_pretrained_params_dict,\n",
    "    \"lora_config_params\":lora_config_params_dict,\n",
    "    \"quantization_params\":quantization_params_dict,\n",
    "    \"tokenizer_params\":tokenizer_params_dict,\n",
    "    \"training_args\":training_args_dict\n",
    "}\n",
    "\n",
    "\n",
    "save_dicts_to_csv(hyperparams, '/home/bhx5gh/Documents/NLP/NLP_Final_Political_Bias_Shifts/fine_tuned_llms/mistralai_Mistral-7B-v0_1/runs.csv',\n",
    "model_name, cur_datetime)\n"
   ]
  }
 ],
 "metadata": {
  "kernelspec": {
   "display_name": ".venv",
   "language": "python",
   "name": "python3"
  },
  "language_info": {
   "codemirror_mode": {
    "name": "ipython",
    "version": 3
   },
   "file_extension": ".py",
   "mimetype": "text/x-python",
   "name": "python",
   "nbconvert_exporter": "python",
   "pygments_lexer": "ipython3",
   "version": "3.11.5"
  }
 },
 "nbformat": 4,
 "nbformat_minor": 2
}
