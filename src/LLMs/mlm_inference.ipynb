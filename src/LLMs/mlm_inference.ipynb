{
 "cells": [
  {
   "cell_type": "code",
   "execution_count": 1,
   "metadata": {},
   "outputs": [
    {
     "name": "stderr",
     "output_type": "stream",
     "text": [
      "/home/bhx5gh/Documents/NLP/NLP_Final_Political_Bias_Shifts/.venv/lib64/python3.11/site-packages/tqdm/auto.py:21: TqdmWarning: IProgress not found. Please update jupyter and ipywidgets. See https://ipywidgets.readthedocs.io/en/stable/user_install.html\n",
      "  from .autonotebook import tqdm as notebook_tqdm\n"
     ]
    }
   ],
   "source": [
    "import torch\n",
    "from transformers import AutoModelForMaskedLM, AutoTokenizer, pipeline\n",
    "from peft import PeftModel"
   ]
  },
  {
   "cell_type": "code",
   "execution_count": 6,
   "metadata": {},
   "outputs": [
    {
     "name": "stderr",
     "output_type": "stream",
     "text": [
      "Device set to use cuda:0\n",
      "Device set to use cuda:0\n"
     ]
    },
    {
     "name": "stdout",
     "output_type": "stream",
     "text": [
      "trainable params: 0 || all params: 405,743,705 || trainable%: 0.0000\n",
      "None\n"
     ]
    }
   ],
   "source": [
    "\n",
    "\n",
    "trained_model_path = '/home/bhx5gh/Documents/NLP/NLP_Final_Political_Bias_Shifts/fine_tuned_llms/FacebookAI_roberta-large/checkpoints/2024-12-14 21-04-12/checkpoint-2100'\n",
    "base_model_path = '/home/bhx5gh/Documents/NLP/NLP_Final_Political_Bias_Shifts/src/Local Models/FacebookAI_roberta-large'\n",
    "lora_weights_path = f\"{trained_model_path}/adapter_model.safetensors\"\n",
    "\n",
    "# Load base model and tokenizer\n",
    "base_model = AutoModelForMaskedLM.from_pretrained(base_model_path, torch_dtype=torch.float16, device_map=\"auto\")\n",
    "tokenizer = AutoTokenizer.from_pretrained(base_model_path)\n",
    "\n",
    "# Apply LoRA weights\n",
    "trained_model = PeftModel.from_pretrained(base_model, trained_model_path)\n",
    "print(trained_model.print_trainable_parameters())\n",
    "\n",
    "# Create pipelines\n",
    "trained_pipe = pipeline(\n",
    "    \"fill-mask\", \n",
    "    model=trained_model, \n",
    "    tokenizer=tokenizer,\n",
    "    torch_dtype=torch.float16, \n",
    "    device_map=\"auto\"\n",
    ")\n",
    "\n",
    "base_pipe = pipeline(\n",
    "    \"fill-mask\", \n",
    "    model=base_model, \n",
    "    tokenizer=tokenizer,\n",
    "    torch_dtype=torch.float16, \n",
    "    device_map=\"auto\"\n",
    ")\n"
   ]
  },
  {
   "cell_type": "code",
   "execution_count": 3,
   "metadata": {},
   "outputs": [],
   "source": [
    "cloze_statement = 'I feel <mask> about this statement: I prefer a smaller government, providing fewer services'"
   ]
  },
  {
   "cell_type": "code",
   "execution_count": 4,
   "metadata": {},
   "outputs": [
    {
     "data": {
      "text/plain": [
       "[{'score': 0.64990234375,\n",
       "  'token': 5025,\n",
       "  'token_str': ' strongly',\n",
       "  'sequence': 'I feel strongly about this statement: I prefer a smaller government, providing fewer services'},\n",
       " {'score': 0.1544189453125,\n",
       "  'token': 205,\n",
       "  'token_str': ' good',\n",
       "  'sequence': 'I feel good about this statement: I prefer a smaller government, providing fewer services'},\n",
       " {'score': 0.0244293212890625,\n",
       "  'token': 3230,\n",
       "  'token_str': ' confident',\n",
       "  'sequence': 'I feel confident about this statement: I prefer a smaller government, providing fewer services'},\n",
       " {'score': 0.0190277099609375,\n",
       "  'token': 32547,\n",
       "  'token_str': ' passionately',\n",
       "  'sequence': 'I feel passionately about this statement: I prefer a smaller government, providing fewer services'},\n",
       " {'score': 0.015289306640625,\n",
       "  'token': 372,\n",
       "  'token_str': ' great',\n",
       "  'sequence': 'I feel great about this statement: I prefer a smaller government, providing fewer services'}]"
      ]
     },
     "execution_count": 4,
     "metadata": {},
     "output_type": "execute_result"
    }
   ],
   "source": [
    "base_pipe(cloze_statement)"
   ]
  },
  {
   "cell_type": "code",
   "execution_count": 5,
   "metadata": {},
   "outputs": [
    {
     "data": {
      "text/plain": [
       "[{'score': 0.64990234375,\n",
       "  'token': 5025,\n",
       "  'token_str': ' strongly',\n",
       "  'sequence': 'I feel strongly about this statement: I prefer a smaller government, providing fewer services'},\n",
       " {'score': 0.1544189453125,\n",
       "  'token': 205,\n",
       "  'token_str': ' good',\n",
       "  'sequence': 'I feel good about this statement: I prefer a smaller government, providing fewer services'},\n",
       " {'score': 0.0244293212890625,\n",
       "  'token': 3230,\n",
       "  'token_str': ' confident',\n",
       "  'sequence': 'I feel confident about this statement: I prefer a smaller government, providing fewer services'},\n",
       " {'score': 0.0190277099609375,\n",
       "  'token': 32547,\n",
       "  'token_str': ' passionately',\n",
       "  'sequence': 'I feel passionately about this statement: I prefer a smaller government, providing fewer services'},\n",
       " {'score': 0.015289306640625,\n",
       "  'token': 372,\n",
       "  'token_str': ' great',\n",
       "  'sequence': 'I feel great about this statement: I prefer a smaller government, providing fewer services'}]"
      ]
     },
     "execution_count": 5,
     "metadata": {},
     "output_type": "execute_result"
    }
   ],
   "source": [
    "trained_pipe(cloze_statement)"
   ]
  }
 ],
 "metadata": {
  "kernelspec": {
   "display_name": ".venv",
   "language": "python",
   "name": "python3"
  },
  "language_info": {
   "codemirror_mode": {
    "name": "ipython",
    "version": 3
   },
   "file_extension": ".py",
   "mimetype": "text/x-python",
   "name": "python",
   "nbconvert_exporter": "python",
   "pygments_lexer": "ipython3",
   "version": "3.11.5"
  }
 },
 "nbformat": 4,
 "nbformat_minor": 2
}
