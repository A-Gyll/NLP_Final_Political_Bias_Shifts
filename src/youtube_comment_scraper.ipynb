{
 "cells": [
  {
   "cell_type": "code",
   "execution_count": null,
   "metadata": {},
   "outputs": [],
   "source": [
    "import pandas as pd\n",
    "from dotenv import load_dotenv\n",
    "import os\n",
    "from yt_comment_scraper_util import YoutubeCommentScraper, CommentScraperUtil\n",
    "from datetime import datetime\n",
    "load_dotenv()\n",
    "import csv"
   ]
  },
  {
   "cell_type": "code",
   "execution_count": null,
   "metadata": {},
   "outputs": [],
   "source": [
    "api_key = os.getenv('YOUTUBE_API_1')  # make sure you have your API key in the .env file\n",
    "scraper = YoutubeCommentScraper(api_key)"
   ]
  },
  {
   "cell_type": "code",
   "execution_count": 3,
   "metadata": {},
   "outputs": [],
   "source": [
    "start_date = '2024-01-01'\n",
    "channel = 'Fox_News'\n",
    "scrape_iteration = 9\n",
    "\n",
    "script_dir = os.getcwd()\n",
    "\n",
    "path_to_link_csv = os.path.join(script_dir,f'../data/Raw Data/{channel}_links.csv')\n",
    "comment_csv_load_path = os.path.join(script_dir,f'../data/Raw Data/{channel}_comments_{str(scrape_iteration)}.csv')\n",
    "comment_csv_save_path = os.path.join(script_dir,f'../data/Raw Data/{channel}_comments_{str(scrape_iteration+1)}.csv')\n",
    "path_to_error_logs = os.path.join(script_dir,f'../data/Error Logs/{channel}_{str(datetime.now())}.csv')\n",
    "\n",
    "\n",
    "most_recent_video_id, previous_comments_df = CommentScraperUtil.get_earliest_video_id(comment_csv_load_path)\n",
    "video_ids_to_scrape = CommentScraperUtil.load_video_ids(path_to_link_csv, start_date, most_recent_video_id)"
   ]
  },
  {
   "cell_type": "code",
   "execution_count": null,
   "metadata": {},
   "outputs": [],
   "source": [
    "all_comments = []\n",
    "errors = []\n",
    "for count, video_id in enumerate(video_ids_to_scrape):\n",
    "    print(f'Scraping video #{count} | Video Id: {video_id}')\n",
    "    test = scraper.get_video_comments(video_id)\n",
    "    comments_data, error =test\n",
    "    if comments_data:\n",
    "        all_comments.extend(comments_data)\n",
    "    if error:\n",
    "        print(f'Error for {video_id}')\n",
    "        errors.append({'video_id': video_id, \"error\": error})\n",
    "        if error ==  \"Quota Exceeded\":\n",
    "            break\n",
    "new_comments = pd.DataFrame(all_comments)\n",
    "errors_df = pd.DataFrame(errors)"
   ]
  },
  {
   "cell_type": "code",
   "execution_count": 6,
   "metadata": {},
   "outputs": [],
   "source": [
    "\n",
    "comments_df = new_comments\n",
    "comments_df.to_csv(comment_csv_save_path, quoting=csv.QUOTE_NONNUMERIC, escapechar='\\\\', index=False, encoding='utf-8')\n",
    "errors_df.to_csv(path_to_error_logs, index=False)\n",
    "\n",
    "print(f\"There are {comments_df.size} comments\")"
   ]
  }
 ],
 "metadata": {
  "kernelspec": {
   "display_name": "nlpenv",
   "language": "python",
   "name": "python3"
  },
  "language_info": {
   "codemirror_mode": {
    "name": "ipython",
    "version": 3
   },
   "file_extension": ".py",
   "mimetype": "text/x-python",
   "name": "python",
   "nbconvert_exporter": "python",
   "pygments_lexer": "ipython3",
   "version": "3.12.5"
  }
 },
 "nbformat": 4,
 "nbformat_minor": 2
}
