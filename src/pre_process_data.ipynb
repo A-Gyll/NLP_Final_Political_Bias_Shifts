{
 "cells": [
  {
   "cell_type": "code",
   "execution_count": 1,
   "metadata": {},
   "outputs": [],
   "source": [
    "from clean_comments_util import clean_comments\n"
   ]
  },
  {
   "cell_type": "code",
   "execution_count": 2,
   "metadata": {},
   "outputs": [
    {
     "name": "stdout",
     "output_type": "stream",
     "text": [
      "0.3035705804824829\n"
     ]
    }
   ],
   "source": [
    "load_path = \"/home/puschb/UVA/NLP/NLP_Final_Political_Bias_Shifts/data/Raw Data/CNBC_comments.csv\"\n",
    "save_path = \"/home/puschb/UVA/NLP/NLP_Final_Political_Bias_Shifts/data/Cleaned Data/CNBC_comments_clean.csv\"\n",
    "\n",
    "clean_comments(load_path, save_path)"
   ]
  },
  {
   "cell_type": "code",
   "execution_count": 3,
   "metadata": {},
   "outputs": [
    {
     "name": "stdout",
     "output_type": "stream",
     "text": [
      "This guy makes up some amazing words. \"we have raised guidance on topline revenue\" this guy is my hero.\n"
     ]
    }
   ],
   "source": [
    "import re\n",
    "\n",
    "test_string = \"This guy makes up some amazing words. &quot;we have raised guidance on topline revenue&quot; this guy is my hero.\"\n",
    "test_string = re.sub(r\"(&quot;)\", '\"', test_string)\n",
    "test_string = re.sub(r\"(&amp;#8211;)\", '–', test_string) #endash\n",
    "test_string = re.sub(r\"(&amp;)\", '&', test_string)  # & symbol\n",
    "test_string = re.sub(r\"(&lt;)\", '<', test_string)  # less than symbol\n",
    "test_string = re.sub(r\"(&gt;)\", '>', test_string)  # greater than symbol\n",
    "test_string =  re.sub(r\"(&#39;)\", \"'\", test_string)  # single quote\n",
    "test_string =  re.sub(r\"(&quot;)\", '\"', test_string)  # double quote\n",
    "print(test_string)"
   ]
  },
  {
   "cell_type": "code",
   "execution_count": 4,
   "metadata": {},
   "outputs": [
    {
     "name": "stdout",
     "output_type": "stream",
     "text": [
      "This guy makes up some amazing words. \"we have raised guidance on topline revenue\" this guy is my hero.\n"
     ]
    }
   ],
   "source": [
    "import pandas as pd\n",
    "df = pd.read_csv(save_path,encoding='utf-8')\n",
    "print(df['comment'][0])"
   ]
  }
 ],
 "metadata": {
  "kernelspec": {
   "display_name": ".venv",
   "language": "python",
   "name": "python3"
  },
  "language_info": {
   "codemirror_mode": {
    "name": "ipython",
    "version": 3
   },
   "file_extension": ".py",
   "mimetype": "text/x-python",
   "name": "python",
   "nbconvert_exporter": "python",
   "pygments_lexer": "ipython3",
   "version": "3.10.12"
  }
 },
 "nbformat": 4,
 "nbformat_minor": 2
}
