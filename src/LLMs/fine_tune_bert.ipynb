{
 "cells": [
  {
   "cell_type": "code",
   "execution_count": 1,
   "metadata": {},
   "outputs": [
    {
     "name": "stderr",
     "output_type": "stream",
     "text": [
      "/home/bhx5gh/Documents/NLP/NLP_Final_Political_Bias_Shifts/.venv/lib64/python3.11/site-packages/tqdm/auto.py:21: TqdmWarning: IProgress not found. Please update jupyter and ipywidgets. See https://ipywidgets.readthedocs.io/en/stable/user_install.html\n",
      "  from .autonotebook import tqdm as notebook_tqdm\n"
     ]
    }
   ],
   "source": [
    "import pandas as pd\n",
    "from sklearn.model_selection import train_test_split\n",
    "from transformers import AutoTokenizer, AutoModelForMaskedLM, Trainer, TrainingArguments, DataCollatorForLanguageModeling\n",
    "import torch\n",
    "from peft import get_peft_model, LoraConfig, TaskType\n",
    "from datasets import Dataset, DatasetDict\n",
    "from fine_tune_util import EvalSampleDatasetTrainer, compute_metrics, preprocess_logits_for_metrics_mlm, token_length_histogram, save_dicts_to_csv, save_metrics\n",
    "from datetime import datetime"
   ]
  },
  {
   "cell_type": "code",
   "execution_count": 2,
   "metadata": {},
   "outputs": [],
   "source": [
    "# This should be the only part of this code that is getting modified                      #\n",
    "model_name = \"FacebookAI_roberta-large\" \n",
    "model_path = f\"../Local Models/{model_name}\"                                              #                                                      \n",
    "                                                                                          #\n",
    "from_pretrained_params_dict = {                                                           #\n",
    "    \"pretrained_model_name_or_path\" : model_path,                                                           #\n",
    "    \"device_map\":\"cuda:0\",                                                                  #\n",
    "    #\"torch_dtype\": torch.float16                                                          #\n",
    "}                                                                                         #\n",
    "                                                                                          #\n",
    "'''lora_config_params_dict = {                                                               #\n",
    "    \"lora_alpha\":1024,                                                                      #\n",
    "    \"lora_dropout\":0.1,                                                                   #\n",
    "    \"r\":512,                                                                               #\n",
    "    \"bias\":\"none\",                                                                        #\n",
    "    \"task_type\":TaskType.,                                                       #\n",
    "}     '''                                                                                    #\n",
    "                                                                                          #\n",
    "quantization_params_dict = { }                                                                                         #\n",
    "                                                                                          #\n",
    "tokenizer_params_dict = {                                                                 #\n",
    "  \"truncation\":True,\n",
    "  \"padding\": True,\n",
    "  \"max_length\":384                                                                       #\n",
    "}                                                                                         #\n",
    "                                                                                          #\n",
    "cur_datetime = datetime.now().strftime(\"%Y-%m-%d %H-%M-%S\")                               #\n",
    "checkpoint_dir = f\"../../fine_tuned_llms/{model_name}/checkpoints/{cur_datetime}\"        #\n",
    "metrics_dir = f\"{checkpoint_dir}/metrics.json\"                                              #                                                                                          \n",
    "                                                                                          #\n",
    "training_args_dict = {                                                                    #                 \n",
    "  \"output_dir\":checkpoint_dir,                                                            #                              \n",
    "  \"per_device_train_batch_size\":96, # using A100 gpu, not sure if rivanna can handle more,  #                                                             \n",
    "  \"per_device_eval_batch_size\":96,                                                         #                                 \n",
    "  \"num_train_epochs\":2,                \n",
    "  \"evaluation_strategy\":\"steps\",                                                          #                                \n",
    "  \"save_strategy\":\"best\",                                                                #                          \n",
    "  \"eval_steps\":150,                                                                        #                  \n",
    "  \"save_steps\":150,                                                                     #                                \n",
    "  \"metric_for_best_model\":\"perplexity\",                                                                                       \n",
    "  \"greater_is_better\":False,              # Lower perplexity is better                    #                                                                      \n",
    "  \"logging_dir\":metrics_dir,   \n",
    "  \"logging_strategy\": \"steps\" , \n",
    "  \"logging_steps\": 150,                                                         #                            \n",
    "  \"fp16\":True, \n",
    "  \"learning_rate\": 1e-4,    \n",
    "  \"lr_scheduler_type\":'constant',\n",
    "  \"eval_on_start\": True,     \n",
    "  \"save_safetensors\":False,\n",
    "  \"warmup_steps\": 100,\n",
    "  #\"ddp_backend\": \"nccl\",     \n",
    " # \"torch_compile\":True,                                                                 #              \n",
    "  #save_total_limit=3, # only keeping best 3                                              #                                            \n",
    "}                                                                                         # \n",
    "###########################################################################################"
   ]
  },
  {
   "cell_type": "code",
   "execution_count": 3,
   "metadata": {},
   "outputs": [],
   "source": [
    "#load dataset\n",
    "\n",
    "seed = 210\n",
    "\n",
    "data = pd.read_csv(\"../../data/Cleaned Data/CNN_comments_clean.csv\")  \n",
    "comments = data[\"comment\"].astype(str).sample(frac=0.1, random_state=seed)\n",
    "\n",
    "train_comments, test_comments = train_test_split(comments, test_size=0.3, random_state=seed)\n",
    "val_comments, test_comments = train_test_split(test_comments, test_size=0.5, random_state=seed)\n",
    "\n",
    "train_dataset = Dataset.from_pandas(pd.DataFrame({\"text\": train_comments}))\n",
    "val_dataset = Dataset.from_pandas(pd.DataFrame({\"text\": val_comments}))\n",
    "test_dataset = Dataset.from_pandas(pd.DataFrame({\"text\": test_comments}))\n",
    "\n",
    "dataset = DatasetDict({\n",
    "    \"train\": train_dataset,\n",
    "    \"validation\": val_dataset,\n",
    "    \"test\": test_dataset\n",
    "})\n",
    "\n"
   ]
  },
  {
   "cell_type": "code",
   "execution_count": 4,
   "metadata": {},
   "outputs": [],
   "source": [
    "# set up model\n",
    "tokenizer = AutoTokenizer.from_pretrained(model_path, use_fast = True)\n",
    "model = AutoModelForMaskedLM.from_pretrained(**from_pretrained_params_dict)\n",
    "#peft_config =  LoraConfig(**lora_config_params_dict)\n",
    "#model = get_peft_model(model, peft_config)\n",
    "#print(model)"
   ]
  },
  {
   "cell_type": "code",
   "execution_count": 5,
   "metadata": {},
   "outputs": [
    {
     "name": "stdout",
     "output_type": "stream",
     "text": [
      "Total parameters: 355412057\n",
      "Trainable parameters: 355412057\n"
     ]
    }
   ],
   "source": [
    "total_params = sum(p.numel() for p in model.parameters())  # Total number of parameters\n",
    "trainable_params = sum(p.numel() for p in model.parameters() if p.requires_grad)  # Trainable parameters\n",
    "\n",
    "print(f\"Total parameters: {total_params}\")\n",
    "print(f\"Trainable parameters: {trainable_params}\")"
   ]
  },
  {
   "cell_type": "code",
   "execution_count": 6,
   "metadata": {},
   "outputs": [],
   "source": [
    "def tokenize_function(examples):\n",
    "    return tokenizer(examples[\"text\"], **tokenizer_params_dict) # we don't do padding here, we let the data collater handle it"
   ]
  },
  {
   "cell_type": "code",
   "execution_count": 7,
   "metadata": {},
   "outputs": [
    {
     "name": "stderr",
     "output_type": "stream",
     "text": [
      "Map: 100%|██████████| 114703/114703 [00:45<00:00, 2532.56 examples/s]\n",
      "Map: 100%|██████████| 24579/24579 [00:11<00:00, 2210.50 examples/s]\n",
      "Map: 100%|██████████| 24580/24580 [00:11<00:00, 2219.08 examples/s]\n"
     ]
    }
   ],
   "source": [
    "# Tokenize each split and remove the 'text' column\n",
    "tokenized_datasets = dataset.map(tokenize_function, batched=True, remove_columns=[\"text\"])\n",
    "\n",
    "# Add 'labels' field for language modeling\n",
    "tokenized_datasets = tokenized_datasets.remove_columns([\"__index_level_0__\"])\n",
    "data_collator = DataCollatorForLanguageModeling(tokenizer=tokenizer, mlm=True, mlm_probability = .15)"
   ]
  },
  {
   "cell_type": "code",
   "execution_count": 8,
   "metadata": {},
   "outputs": [
    {
     "name": "stderr",
     "output_type": "stream",
     "text": [
      "/home/bhx5gh/Documents/NLP/NLP_Final_Political_Bias_Shifts/.venv/lib64/python3.11/site-packages/transformers/training_args.py:1575: FutureWarning: `evaluation_strategy` is deprecated and will be removed in version 4.46 of 🤗 Transformers. Use `eval_strategy` instead\n",
      "  warnings.warn(\n",
      "Detected kernel version 4.18.0, which is below the recommended minimum of 5.5.0; this can cause the process to hang. It is recommended to upgrade the kernel to the minimum version or higher.\n"
     ]
    }
   ],
   "source": [
    "# set up trainer\n",
    "training_args = TrainingArguments(**training_args_dict)\n",
    "trainer = EvalSampleDatasetTrainer(\n",
    "    eval_sample_size_proportion = .25,\n",
    "    seed = seed,\n",
    "    model=model,\n",
    "    args=training_args,\n",
    "    train_dataset=tokenized_datasets[\"train\"],\n",
    "    eval_dataset=tokenized_datasets[\"validation\"],\n",
    "    data_collator=data_collator,\n",
    "    compute_metrics=compute_metrics,\n",
    "    preprocess_logits_for_metrics=preprocess_logits_for_metrics_mlm,\n",
    ")"
   ]
  },
  {
   "cell_type": "code",
   "execution_count": 9,
   "metadata": {},
   "outputs": [
    {
     "data": {
      "text/html": [
       "\n",
       "    <div>\n",
       "      \n",
       "      <progress value='41' max='2390' style='width:300px; height:20px; vertical-align: middle;'></progress>\n",
       "      [  41/2390 01:50 < 1:50:49, 0.35 it/s, Epoch 0.03/2]\n",
       "    </div>\n",
       "    <table border=\"1\" class=\"dataframe\">\n",
       "  <thead>\n",
       " <tr style=\"text-align: left;\">\n",
       "      <th>Step</th>\n",
       "      <th>Training Loss</th>\n",
       "      <th>Validation Loss</th>\n",
       "      <th>Perplexity</th>\n",
       "    </tr>\n",
       "  </thead>\n",
       "  <tbody>\n",
       "    <tr>\n",
       "      <td>0</td>\n",
       "      <td>No log</td>\n",
       "      <td>1.776225</td>\n",
       "      <td>5.907522</td>\n",
       "    </tr>\n",
       "    <tr>\n",
       "      <td>10</td>\n",
       "      <td>2.076200</td>\n",
       "      <td>1.984788</td>\n",
       "      <td>7.277503</td>\n",
       "    </tr>\n",
       "    <tr>\n",
       "      <td>20</td>\n",
       "      <td>2.084400</td>\n",
       "      <td>1.931438</td>\n",
       "      <td>6.899417</td>\n",
       "    </tr>\n",
       "    <tr>\n",
       "      <td>30</td>\n",
       "      <td>2.092200</td>\n",
       "      <td>1.873838</td>\n",
       "      <td>6.513244</td>\n",
       "    </tr>\n",
       "  </tbody>\n",
       "</table><p>\n",
       "    <div>\n",
       "      \n",
       "      <progress value='35' max='64' style='width:300px; height:20px; vertical-align: middle;'></progress>\n",
       "      [35/64 00:11 < 00:09, 2.96 it/s]\n",
       "    </div>\n",
       "    "
      ],
      "text/plain": [
       "<IPython.core.display.HTML object>"
      ]
     },
     "metadata": {},
     "output_type": "display_data"
    }
   ],
   "source": [
    "trainer.train()"
   ]
  },
  {
   "cell_type": "code",
   "execution_count": null,
   "metadata": {},
   "outputs": [],
   "source": [
    "save_metrics(trainer.state.log_history, f'{checkpoint_dir}/metrics.json')\n",
    "\n",
    "hyperparams = {\n",
    "    \"from_pretrained_params\": from_pretrained_params_dict,\n",
    "    #\"lora_config_params\":lora_config_params_dict,\n",
    "    \"quantization_params\":quantization_params_dict,\n",
    "    \"tokenizer_params\":tokenizer_params_dict,\n",
    "    \"training_args\":training_args_dict\n",
    "}\n",
    "\n",
    "\n",
    "save_dicts_to_csv(hyperparams, '/home/bhx5gh/Documents/NLP/NLP_Final_Political_Bias_Shifts/fine_tuned_llms/mistralai_Mistral-7B-v0_1/runs.csv',\n",
    "model_name, cur_datetime)\n"
   ]
  }
 ],
 "metadata": {
  "kernelspec": {
   "display_name": ".venv",
   "language": "python",
   "name": "python3"
  },
  "language_info": {
   "codemirror_mode": {
    "name": "ipython",
    "version": 3
   },
   "file_extension": ".py",
   "mimetype": "text/x-python",
   "name": "python",
   "nbconvert_exporter": "python",
   "pygments_lexer": "ipython3",
   "version": "3.11.5"
  }
 },
 "nbformat": 4,
 "nbformat_minor": 2
}
