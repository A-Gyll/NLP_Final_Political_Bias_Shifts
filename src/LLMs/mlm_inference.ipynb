{
 "cells": [
  {
   "cell_type": "code",
   "execution_count": 1,
   "metadata": {},
   "outputs": [
    {
     "name": "stderr",
     "output_type": "stream",
     "text": [
      "/home/ujx4ab/ondemand/NLP_Final_Political_Bias_Shifts/.venv/lib64/python3.11/site-packages/tqdm/auto.py:21: TqdmWarning: IProgress not found. Please update jupyter and ipywidgets. See https://ipywidgets.readthedocs.io/en/stable/user_install.html\n",
      "  from .autonotebook import tqdm as notebook_tqdm\n"
     ]
    }
   ],
   "source": [
    "import torch\n",
    "from transformers import AutoModelForMaskedLM, AutoTokenizer, pipeline\n",
    "from peft import PeftModel"
   ]
  },
  {
   "cell_type": "code",
   "execution_count": 3,
   "metadata": {},
   "outputs": [
    {
     "name": "stderr",
     "output_type": "stream",
     "text": [
      "Device set to use cuda:0\n",
      "Device set to use cuda:0\n"
     ]
    }
   ],
   "source": [
    "\n",
    "trained_model_path = '/home/ujx4ab/ondemand/NLP_Final_Political_Bias_Shifts/fine_tuned_llms/FacebookAI_roberta-large/checkpoints/CNN_model_3_a_5_epoch/2024-12-15 19-48-53/checkpoint-750'\n",
    "base_model_path = '/home/ujx4ab/ondemand/NLP_Final_Political_Bias_Shifts/src/Local Models/FacebookAI_roberta-large'\n",
    "lora_weights_path = f\"{trained_model_path}/adapter_model.safetensors\"\n",
    "\n",
    "# Load base model and tokenizer\n",
    "base_model = AutoModelForMaskedLM.from_pretrained(base_model_path, torch_dtype=torch.float16, device_map=\"auto\")\n",
    "tokenizer = AutoTokenizer.from_pretrained(base_model_path)\n",
    "\n",
    "# Load base model and tokenizer\n",
    "ft_base_model = AutoModelForMaskedLM.from_pretrained(trained_model_path, torch_dtype=torch.float16, device_map=\"auto\")\n",
    "\n",
    "base_pipe = pipeline(\n",
    "    \"fill-mask\", \n",
    "    model=base_model, \n",
    "    tokenizer=tokenizer,\n",
    "    torch_dtype=torch.float16, \n",
    "    device_map=\"auto\"\n",
    ")\n",
    "\n",
    "trained_pipe = pipeline(\n",
    "    \"fill-mask\", \n",
    "    model=ft_base_model, \n",
    "    tokenizer=tokenizer,\n",
    "    torch_dtype=torch.float16, \n",
    "    device_map=\"auto\"\n",
    ")\n"
   ]
  },
  {
   "cell_type": "code",
   "execution_count": 7,
   "metadata": {},
   "outputs": [],
   "source": [
    "cloze_statement = 'I think gun ownership is <mask>'\n",
    "#\"Gun ownership does <mask> to increase safety by allowing law-abiding citizens to protect themselves \"\n"
   ]
  },
  {
   "cell_type": "code",
   "execution_count": 12,
   "metadata": {},
   "outputs": [
    {
     "data": {
      "text/plain": [
       "[{'score': 0.07879638671875,\n",
       "  'token': 734,\n",
       "  'token_str': '...',\n",
       "  'sequence': 'I think gun ownership is...'},\n",
       " {'score': 0.0653076171875,\n",
       "  'token': 505,\n",
       "  'token_str': ' important',\n",
       "  'sequence': 'I think gun ownership is important'},\n",
       " {'score': 0.0408935546875,\n",
       "  'token': 1593,\n",
       "  'token_str': ' wrong',\n",
       "  'sequence': 'I think gun ownership is wrong'},\n",
       " {'score': 0.0408935546875,\n",
       "  'token': 1174,\n",
       "  'token_str': '…',\n",
       "  'sequence': 'I think gun ownership is…'},\n",
       " {'score': 0.038421630859375,\n",
       "  'token': 205,\n",
       "  'token_str': ' good',\n",
       "  'sequence': 'I think gun ownership is good'}]"
      ]
     },
     "execution_count": 12,
     "metadata": {},
     "output_type": "execute_result"
    }
   ],
   "source": [
    "base_pipe(cloze_statement)"
   ]
  },
  {
   "cell_type": "code",
   "execution_count": 13,
   "metadata": {},
   "outputs": [
    {
     "data": {
      "text/plain": [
       "[{'score': 0.06304931640625,\n",
       "  'token': 1593,\n",
       "  'token_str': ' wrong',\n",
       "  'sequence': 'I think gun ownership is wrong'},\n",
       " {'score': 0.0506591796875,\n",
       "  'token': 12103,\n",
       "  'token_str': ' stupid',\n",
       "  'sequence': 'I think gun ownership is stupid'},\n",
       " {'score': 0.046112060546875,\n",
       "  'token': 2702,\n",
       "  'token_str': ' dangerous',\n",
       "  'sequence': 'I think gun ownership is dangerous'},\n",
       " {'score': 0.0279693603515625,\n",
       "  'token': 2439,\n",
       "  'token_str': ' illegal',\n",
       "  'sequence': 'I think gun ownership is illegal'},\n",
       " {'score': 0.024688720703125,\n",
       "  'token': 2051,\n",
       "  'token_str': ' fine',\n",
       "  'sequence': 'I think gun ownership is fine'}]"
      ]
     },
     "execution_count": 13,
     "metadata": {},
     "output_type": "execute_result"
    }
   ],
   "source": [
    "trained_pipe(cloze_statement)"
   ]
  }
 ],
 "metadata": {
  "kernelspec": {
   "display_name": ".venv",
   "language": "python",
   "name": "python3"
  },
  "language_info": {
   "codemirror_mode": {
    "name": "ipython",
    "version": 3
   },
   "file_extension": ".py",
   "mimetype": "text/x-python",
   "name": "python",
   "nbconvert_exporter": "python",
   "pygments_lexer": "ipython3",
   "version": "3.11.5"
  }
 },
 "nbformat": 4,
 "nbformat_minor": 2
}
